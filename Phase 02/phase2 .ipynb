{
  "nbformat": 4,
  "nbformat_minor": 0,
  "metadata": {
    "colab": {
      "name": "606phase2.ipynb",
      "provenance": [],
      "collapsed_sections": []
    },
    "kernelspec": {
      "name": "python3",
      "display_name": "Python 3"
    },
    "language_info": {
      "name": "python"
    }
  },
  "cells": [
    {
      "cell_type": "markdown",
      "metadata": {
        "id": "gwYqXjUoFxPp"
      },
      "source": [
        "# 1. Importing packages"
      ]
    },
    {
      "cell_type": "code",
      "metadata": {
        "id": "xczGrrXU8_Kb"
      },
      "source": [
        "import pandas as pd\n",
        "import seaborn as sns\n",
        "import matplotlib.pyplot as plt"
      ],
      "execution_count": null,
      "outputs": []
    },
    {
      "cell_type": "markdown",
      "metadata": {
        "id": "UxO8tSwSCwJt"
      },
      "source": [
        "#2. Ozone "
      ]
    },
    {
      "cell_type": "markdown",
      "metadata": {
        "id": "l7RqzcWSTQrN"
      },
      "source": [
        "Import dataset "
      ]
    },
    {
      "cell_type": "code",
      "metadata": {
        "colab": {
          "base_uri": "https://localhost:8080/",
          "height": 417
        },
        "id": "d5r0toIK_McG",
        "outputId": "607d8c39-b261-4a12-a84d-7f4927710ba7"
      },
      "source": [
        "df_ozone = pd.read_csv('daily_ozone_2020.csv')\n",
        "df_ozone.head(3)"
      ],
      "execution_count": null,
      "outputs": [
        {
          "output_type": "execute_result",
          "data": {
            "text/html": [
              "<div>\n",
              "<style scoped>\n",
              "    .dataframe tbody tr th:only-of-type {\n",
              "        vertical-align: middle;\n",
              "    }\n",
              "\n",
              "    .dataframe tbody tr th {\n",
              "        vertical-align: top;\n",
              "    }\n",
              "\n",
              "    .dataframe thead th {\n",
              "        text-align: right;\n",
              "    }\n",
              "</style>\n",
              "<table border=\"1\" class=\"dataframe\">\n",
              "  <thead>\n",
              "    <tr style=\"text-align: right;\">\n",
              "      <th></th>\n",
              "      <th>State_Code</th>\n",
              "      <th>County_Code</th>\n",
              "      <th>Site_Num</th>\n",
              "      <th>Parameter_Code</th>\n",
              "      <th>POC</th>\n",
              "      <th>Latitude</th>\n",
              "      <th>Longitude</th>\n",
              "      <th>Datum</th>\n",
              "      <th>Parameter_Name</th>\n",
              "      <th>Sample_Duration</th>\n",
              "      <th>Pollutant_Standard</th>\n",
              "      <th>Data_Local</th>\n",
              "      <th>Units_of_Measure</th>\n",
              "      <th>Event_Type</th>\n",
              "      <th>Observation_Count</th>\n",
              "      <th>Observation_Percent</th>\n",
              "      <th>Arithmetic_Mean</th>\n",
              "      <th>firstMaxValue</th>\n",
              "      <th>firstMaxHour</th>\n",
              "      <th>AQI</th>\n",
              "      <th>Method_Code</th>\n",
              "      <th>Method_Name</th>\n",
              "      <th>Local_Site_Name</th>\n",
              "      <th>Address</th>\n",
              "      <th>State_Name</th>\n",
              "      <th>County_Name</th>\n",
              "      <th>City_Name</th>\n",
              "      <th>CBSA_Name</th>\n",
              "      <th>Date_of_Last_Change</th>\n",
              "    </tr>\n",
              "  </thead>\n",
              "  <tbody>\n",
              "    <tr>\n",
              "      <th>0</th>\n",
              "      <td>1</td>\n",
              "      <td>3</td>\n",
              "      <td>10</td>\n",
              "      <td>44201</td>\n",
              "      <td>1</td>\n",
              "      <td>30.497478</td>\n",
              "      <td>-87.880258</td>\n",
              "      <td>NAD83</td>\n",
              "      <td>Ozone</td>\n",
              "      <td>8-HR RUN AVG BEGIN HOUR</td>\n",
              "      <td>Ozone 8-hour 2015</td>\n",
              "      <td>2/29/20</td>\n",
              "      <td>Parts per million</td>\n",
              "      <td>None</td>\n",
              "      <td>1</td>\n",
              "      <td>6</td>\n",
              "      <td>0.005000</td>\n",
              "      <td>0.005</td>\n",
              "      <td>23</td>\n",
              "      <td>5</td>\n",
              "      <td>NaN</td>\n",
              "      <td>-</td>\n",
              "      <td>FAIRHOPE, Alabama</td>\n",
              "      <td>FAIRHOPE HIGH SCHOOL, 1 PIRATE DRIVE, FAIRHOPE...</td>\n",
              "      <td>Alabama</td>\n",
              "      <td>Baldwin</td>\n",
              "      <td>Fairhope</td>\n",
              "      <td>Daphne-Fairhope-Foley, AL</td>\n",
              "      <td>2/25/21</td>\n",
              "    </tr>\n",
              "    <tr>\n",
              "      <th>1</th>\n",
              "      <td>1</td>\n",
              "      <td>3</td>\n",
              "      <td>10</td>\n",
              "      <td>44201</td>\n",
              "      <td>1</td>\n",
              "      <td>30.497478</td>\n",
              "      <td>-87.880258</td>\n",
              "      <td>NAD83</td>\n",
              "      <td>Ozone</td>\n",
              "      <td>8-HR RUN AVG BEGIN HOUR</td>\n",
              "      <td>Ozone 8-hour 2015</td>\n",
              "      <td>3/1/20</td>\n",
              "      <td>Parts per million</td>\n",
              "      <td>None</td>\n",
              "      <td>17</td>\n",
              "      <td>100</td>\n",
              "      <td>0.046941</td>\n",
              "      <td>0.051</td>\n",
              "      <td>10</td>\n",
              "      <td>47</td>\n",
              "      <td>NaN</td>\n",
              "      <td>-</td>\n",
              "      <td>FAIRHOPE, Alabama</td>\n",
              "      <td>FAIRHOPE HIGH SCHOOL, 1 PIRATE DRIVE, FAIRHOPE...</td>\n",
              "      <td>Alabama</td>\n",
              "      <td>Baldwin</td>\n",
              "      <td>Fairhope</td>\n",
              "      <td>Daphne-Fairhope-Foley, AL</td>\n",
              "      <td>2/25/21</td>\n",
              "    </tr>\n",
              "    <tr>\n",
              "      <th>2</th>\n",
              "      <td>1</td>\n",
              "      <td>3</td>\n",
              "      <td>10</td>\n",
              "      <td>44201</td>\n",
              "      <td>1</td>\n",
              "      <td>30.497478</td>\n",
              "      <td>-87.880258</td>\n",
              "      <td>NAD83</td>\n",
              "      <td>Ozone</td>\n",
              "      <td>8-HR RUN AVG BEGIN HOUR</td>\n",
              "      <td>Ozone 8-hour 2015</td>\n",
              "      <td>3/2/20</td>\n",
              "      <td>Parts per million</td>\n",
              "      <td>None</td>\n",
              "      <td>12</td>\n",
              "      <td>71</td>\n",
              "      <td>0.040083</td>\n",
              "      <td>0.043</td>\n",
              "      <td>12</td>\n",
              "      <td>40</td>\n",
              "      <td>NaN</td>\n",
              "      <td>-</td>\n",
              "      <td>FAIRHOPE, Alabama</td>\n",
              "      <td>FAIRHOPE HIGH SCHOOL, 1 PIRATE DRIVE, FAIRHOPE...</td>\n",
              "      <td>Alabama</td>\n",
              "      <td>Baldwin</td>\n",
              "      <td>Fairhope</td>\n",
              "      <td>Daphne-Fairhope-Foley, AL</td>\n",
              "      <td>2/25/21</td>\n",
              "    </tr>\n",
              "  </tbody>\n",
              "</table>\n",
              "</div>"
            ],
            "text/plain": [
              "   State_Code  County_Code  ...                  CBSA_Name  Date_of_Last_Change\n",
              "0           1            3  ...  Daphne-Fairhope-Foley, AL              2/25/21\n",
              "1           1            3  ...  Daphne-Fairhope-Foley, AL              2/25/21\n",
              "2           1            3  ...  Daphne-Fairhope-Foley, AL              2/25/21\n",
              "\n",
              "[3 rows x 29 columns]"
            ]
          },
          "metadata": {
            "tags": []
          },
          "execution_count": 195
        }
      ]
    },
    {
      "cell_type": "markdown",
      "metadata": {
        "id": "wgI6evJkTS15"
      },
      "source": [
        "Check dataset's information. "
      ]
    },
    {
      "cell_type": "code",
      "metadata": {
        "colab": {
          "base_uri": "https://localhost:8080/"
        },
        "id": "x3aJfPS5Bytt",
        "outputId": "d09f8fee-9f5b-4b1f-8904-9602a9183b46"
      },
      "source": [
        "df_ozone.info()"
      ],
      "execution_count": null,
      "outputs": [
        {
          "output_type": "stream",
          "text": [
            "<class 'pandas.core.frame.DataFrame'>\n",
            "RangeIndex: 391923 entries, 0 to 391922\n",
            "Data columns (total 29 columns):\n",
            " #   Column               Non-Null Count   Dtype  \n",
            "---  ------               --------------   -----  \n",
            " 0   State_Code           391923 non-null  int64  \n",
            " 1   County_Code          391923 non-null  int64  \n",
            " 2   Site_Num             391923 non-null  int64  \n",
            " 3   Parameter_Code       391923 non-null  int64  \n",
            " 4   POC                  391923 non-null  int64  \n",
            " 5   Latitude             391923 non-null  float64\n",
            " 6   Longitude            391923 non-null  float64\n",
            " 7   Datum                391923 non-null  object \n",
            " 8   Parameter_Name       391923 non-null  object \n",
            " 9   Sample_Duration      391923 non-null  object \n",
            " 10  Pollutant_Standard   391923 non-null  object \n",
            " 11  Data_Local           391923 non-null  object \n",
            " 12  Units_of_Measure     391923 non-null  object \n",
            " 13  Event_Type           391923 non-null  object \n",
            " 14  Observation_Count    391923 non-null  int64  \n",
            " 15  Observation_Percent  391923 non-null  int64  \n",
            " 16  Arithmetic_Mean      391923 non-null  float64\n",
            " 17  firstMaxValue        391923 non-null  float64\n",
            " 18  firstMaxHour         391923 non-null  int64  \n",
            " 19  AQI                  391923 non-null  int64  \n",
            " 20  Method_Code          0 non-null       float64\n",
            " 21  Method_Name          391923 non-null  object \n",
            " 22  Local_Site_Name      372311 non-null  object \n",
            " 23  Address              391791 non-null  object \n",
            " 24  State_Name           391923 non-null  object \n",
            " 25  County_Name          391923 non-null  object \n",
            " 26  City_Name            391923 non-null  object \n",
            " 27  CBSA_Name            351069 non-null  object \n",
            " 28  Date_of_Last_Change  391923 non-null  object \n",
            "dtypes: float64(5), int64(9), object(15)\n",
            "memory usage: 86.7+ MB\n"
          ],
          "name": "stdout"
        }
      ]
    },
    {
      "cell_type": "markdown",
      "metadata": {
        "id": "rVlZnCx0MZuB"
      },
      "source": [
        "## Data Cleaning"
      ]
    },
    {
      "cell_type": "markdown",
      "metadata": {
        "id": "EGd2_-e9Ee3v"
      },
      "source": [
        "Dropping Unnecessary Columns\n"
      ]
    },
    {
      "cell_type": "code",
      "metadata": {
        "colab": {
          "base_uri": "https://localhost:8080/",
          "height": 417
        },
        "id": "jognPreFEed8",
        "outputId": "c2c61e38-b03a-4523-9ab8-433b14edc546"
      },
      "source": [
        "df_ozone.drop('Site_Num',axis=1,inplace=True)\n",
        "df_ozone.drop('Event_Type',axis=1,inplace=True)\n",
        "df_ozone.drop('Parameter_Name',axis=1,inplace=True)\n",
        "df_ozone.drop('Parameter_Code',axis=1,inplace=True)\n",
        "df_ozone.drop('POC',axis=1,inplace=True)\n",
        "df_ozone.drop('Sample_Duration',axis=1,inplace=True)\n",
        "df_ozone.drop('Pollutant_Standard',axis=1,inplace=True)\n",
        "df_ozone.drop('Method_Code',axis=1,inplace=True)\n",
        "df_ozone.drop('Method_Name',axis=1,inplace=True)\n",
        "\n",
        "df_ozone.head(3)"
      ],
      "execution_count": null,
      "outputs": [
        {
          "output_type": "execute_result",
          "data": {
            "text/html": [
              "<div>\n",
              "<style scoped>\n",
              "    .dataframe tbody tr th:only-of-type {\n",
              "        vertical-align: middle;\n",
              "    }\n",
              "\n",
              "    .dataframe tbody tr th {\n",
              "        vertical-align: top;\n",
              "    }\n",
              "\n",
              "    .dataframe thead th {\n",
              "        text-align: right;\n",
              "    }\n",
              "</style>\n",
              "<table border=\"1\" class=\"dataframe\">\n",
              "  <thead>\n",
              "    <tr style=\"text-align: right;\">\n",
              "      <th></th>\n",
              "      <th>State_Code</th>\n",
              "      <th>County_Code</th>\n",
              "      <th>Latitude</th>\n",
              "      <th>Longitude</th>\n",
              "      <th>Datum</th>\n",
              "      <th>Data_Local</th>\n",
              "      <th>Units_of_Measure</th>\n",
              "      <th>Observation_Count</th>\n",
              "      <th>Observation_Percent</th>\n",
              "      <th>Arithmetic_Mean</th>\n",
              "      <th>firstMaxValue</th>\n",
              "      <th>firstMaxHour</th>\n",
              "      <th>AQI</th>\n",
              "      <th>Local_Site_Name</th>\n",
              "      <th>Address</th>\n",
              "      <th>State_Name</th>\n",
              "      <th>County_Name</th>\n",
              "      <th>City_Name</th>\n",
              "      <th>CBSA_Name</th>\n",
              "      <th>Date_of_Last_Change</th>\n",
              "    </tr>\n",
              "  </thead>\n",
              "  <tbody>\n",
              "    <tr>\n",
              "      <th>0</th>\n",
              "      <td>1</td>\n",
              "      <td>3</td>\n",
              "      <td>30.497478</td>\n",
              "      <td>-87.880258</td>\n",
              "      <td>NAD83</td>\n",
              "      <td>2/29/20</td>\n",
              "      <td>Parts per million</td>\n",
              "      <td>1</td>\n",
              "      <td>6</td>\n",
              "      <td>0.005000</td>\n",
              "      <td>0.005</td>\n",
              "      <td>23</td>\n",
              "      <td>5</td>\n",
              "      <td>FAIRHOPE, Alabama</td>\n",
              "      <td>FAIRHOPE HIGH SCHOOL, 1 PIRATE DRIVE, FAIRHOPE...</td>\n",
              "      <td>Alabama</td>\n",
              "      <td>Baldwin</td>\n",
              "      <td>Fairhope</td>\n",
              "      <td>Daphne-Fairhope-Foley, AL</td>\n",
              "      <td>2/25/21</td>\n",
              "    </tr>\n",
              "    <tr>\n",
              "      <th>1</th>\n",
              "      <td>1</td>\n",
              "      <td>3</td>\n",
              "      <td>30.497478</td>\n",
              "      <td>-87.880258</td>\n",
              "      <td>NAD83</td>\n",
              "      <td>3/1/20</td>\n",
              "      <td>Parts per million</td>\n",
              "      <td>17</td>\n",
              "      <td>100</td>\n",
              "      <td>0.046941</td>\n",
              "      <td>0.051</td>\n",
              "      <td>10</td>\n",
              "      <td>47</td>\n",
              "      <td>FAIRHOPE, Alabama</td>\n",
              "      <td>FAIRHOPE HIGH SCHOOL, 1 PIRATE DRIVE, FAIRHOPE...</td>\n",
              "      <td>Alabama</td>\n",
              "      <td>Baldwin</td>\n",
              "      <td>Fairhope</td>\n",
              "      <td>Daphne-Fairhope-Foley, AL</td>\n",
              "      <td>2/25/21</td>\n",
              "    </tr>\n",
              "    <tr>\n",
              "      <th>2</th>\n",
              "      <td>1</td>\n",
              "      <td>3</td>\n",
              "      <td>30.497478</td>\n",
              "      <td>-87.880258</td>\n",
              "      <td>NAD83</td>\n",
              "      <td>3/2/20</td>\n",
              "      <td>Parts per million</td>\n",
              "      <td>12</td>\n",
              "      <td>71</td>\n",
              "      <td>0.040083</td>\n",
              "      <td>0.043</td>\n",
              "      <td>12</td>\n",
              "      <td>40</td>\n",
              "      <td>FAIRHOPE, Alabama</td>\n",
              "      <td>FAIRHOPE HIGH SCHOOL, 1 PIRATE DRIVE, FAIRHOPE...</td>\n",
              "      <td>Alabama</td>\n",
              "      <td>Baldwin</td>\n",
              "      <td>Fairhope</td>\n",
              "      <td>Daphne-Fairhope-Foley, AL</td>\n",
              "      <td>2/25/21</td>\n",
              "    </tr>\n",
              "  </tbody>\n",
              "</table>\n",
              "</div>"
            ],
            "text/plain": [
              "   State_Code  County_Code  ...                  CBSA_Name  Date_of_Last_Change\n",
              "0           1            3  ...  Daphne-Fairhope-Foley, AL              2/25/21\n",
              "1           1            3  ...  Daphne-Fairhope-Foley, AL              2/25/21\n",
              "2           1            3  ...  Daphne-Fairhope-Foley, AL              2/25/21\n",
              "\n",
              "[3 rows x 20 columns]"
            ]
          },
          "metadata": {
            "tags": []
          },
          "execution_count": 197
        }
      ]
    },
    {
      "cell_type": "code",
      "metadata": {
        "id": "SEo2phzBeGuI",
        "colab": {
          "base_uri": "https://localhost:8080/",
          "height": 362
        },
        "outputId": "374b5580-f483-4a51-8ea7-ea0d5de0348f"
      },
      "source": [
        "df_ozone[['AQI','State_Name']].groupby([\"State_Name\"]).median().sort_values(by='AQI',ascending=False).head(10).plot.bar(color='r')\n",
        "plt.show()"
      ],
      "execution_count": null,
      "outputs": [
        {
          "output_type": "display_data",
          "data": {
            "image/png": "[encoded data removed]",
            "text/plain": [
              "<Figure size 432x288 with 1 Axes>"
            ]
          },
          "metadata": {
            "tags": [],
            "needs_background": "light"
          }
        }
      ]
    },
    {
      "cell_type": "code",
      "metadata": {
        "id": "ISEL7K2gfTXK",
        "colab": {
          "base_uri": "https://localhost:8080/",
          "height": 371
        },
        "outputId": "97b14faa-ce54-46e3-c5a1-ea0a9f5e019d"
      },
      "source": [
        "df_ozone[['AQI','State_Name']].groupby([\"State_Name\"]).median().sort_values(by='AQI',ascending=True).head(10).plot.bar(color='b')\n",
        "plt.show()"
      ],
      "execution_count": null,
      "outputs": [
        {
          "output_type": "display_data",
          "data": {
            "image/png": "[encoded data removed]",
            "text/plain": [
              "<Figure size 432x288 with 1 Axes>"
            ]
          },
          "metadata": {
            "tags": [],
            "needs_background": "light"
          }
        }
      ]
    },
    {
      "cell_type": "markdown",
      "metadata": {
        "id": "ukseCA8OC2Kl"
      },
      "source": [
        "# 3. Sulfur Dioxide"
      ]
    },
    {
      "cell_type": "code",
      "metadata": {
        "id": "2VPOBxba_3_I",
        "colab": {
          "base_uri": "https://localhost:8080/",
          "height": 366
        },
        "outputId": "44f61653-d61e-460e-80c9-93e439c1f048"
      },
      "source": [
        "df_so2 = pd.read_csv('daily_ Sulfurdioxide_2020.csv')\n",
        "df_so2.head(3)"
      ],
      "execution_count": null,
      "outputs": [
        {
          "output_type": "execute_result",
          "data": {
            "text/html": [
              "<div>\n",
              "<style scoped>\n",
              "    .dataframe tbody tr th:only-of-type {\n",
              "        vertical-align: middle;\n",
              "    }\n",
              "\n",
              "    .dataframe tbody tr th {\n",
              "        vertical-align: top;\n",
              "    }\n",
              "\n",
              "    .dataframe thead th {\n",
              "        text-align: right;\n",
              "    }\n",
              "</style>\n",
              "<table border=\"1\" class=\"dataframe\">\n",
              "  <thead>\n",
              "    <tr style=\"text-align: right;\">\n",
              "      <th></th>\n",
              "      <th>State_Code</th>\n",
              "      <th>County_Code</th>\n",
              "      <th>Site_Num</th>\n",
              "      <th>Parameter_Code</th>\n",
              "      <th>POC</th>\n",
              "      <th>Latitude</th>\n",
              "      <th>Longitude</th>\n",
              "      <th>Datum</th>\n",
              "      <th>Parameter_Name</th>\n",
              "      <th>Sample_Duration</th>\n",
              "      <th>Pollutant_Standard</th>\n",
              "      <th>Date_Local</th>\n",
              "      <th>Units_of_Measure</th>\n",
              "      <th>Event_Type</th>\n",
              "      <th>Observation_Count</th>\n",
              "      <th>Observation_Percent</th>\n",
              "      <th>Arithmetic_Mean</th>\n",
              "      <th>firstMaxValue</th>\n",
              "      <th>firstMaxHour</th>\n",
              "      <th>AQI</th>\n",
              "      <th>Method_Code</th>\n",
              "      <th>Method_Name</th>\n",
              "      <th>Local_Site_Name</th>\n",
              "      <th>Address</th>\n",
              "      <th>State_Name</th>\n",
              "      <th>County_Name</th>\n",
              "      <th>City_Name</th>\n",
              "      <th>CBSA_Name</th>\n",
              "      <th>Date_of_Last_Change</th>\n",
              "    </tr>\n",
              "  </thead>\n",
              "  <tbody>\n",
              "    <tr>\n",
              "      <th>0</th>\n",
              "      <td>1</td>\n",
              "      <td>73</td>\n",
              "      <td>23</td>\n",
              "      <td>42401</td>\n",
              "      <td>2</td>\n",
              "      <td>33.553056</td>\n",
              "      <td>-86.815</td>\n",
              "      <td>WGS84</td>\n",
              "      <td>Sulfur dioxide</td>\n",
              "      <td>1 HOUR</td>\n",
              "      <td>SO2 1-hour 2010</td>\n",
              "      <td>1/1/20</td>\n",
              "      <td>Parts per billion</td>\n",
              "      <td>None</td>\n",
              "      <td>21</td>\n",
              "      <td>88</td>\n",
              "      <td>2.509524</td>\n",
              "      <td>13.5</td>\n",
              "      <td>11</td>\n",
              "      <td>19.0</td>\n",
              "      <td>100.0</td>\n",
              "      <td>INSTRUMENTAL - ULTRAVIOLET FLUORESCENCE</td>\n",
              "      <td>North Birmingham</td>\n",
              "      <td>NO. B'HAM,SOU R.R., 3009 28TH ST. NO.</td>\n",
              "      <td>Alabama</td>\n",
              "      <td>Jefferson</td>\n",
              "      <td>Birmingham</td>\n",
              "      <td>Birmingham-Hoover, AL</td>\n",
              "      <td>2/25/21</td>\n",
              "    </tr>\n",
              "    <tr>\n",
              "      <th>1</th>\n",
              "      <td>1</td>\n",
              "      <td>73</td>\n",
              "      <td>23</td>\n",
              "      <td>42401</td>\n",
              "      <td>2</td>\n",
              "      <td>33.553056</td>\n",
              "      <td>-86.815</td>\n",
              "      <td>WGS84</td>\n",
              "      <td>Sulfur dioxide</td>\n",
              "      <td>1 HOUR</td>\n",
              "      <td>SO2 1-hour 2010</td>\n",
              "      <td>1/2/20</td>\n",
              "      <td>Parts per billion</td>\n",
              "      <td>None</td>\n",
              "      <td>24</td>\n",
              "      <td>100</td>\n",
              "      <td>1.262500</td>\n",
              "      <td>4.8</td>\n",
              "      <td>0</td>\n",
              "      <td>6.0</td>\n",
              "      <td>100.0</td>\n",
              "      <td>INSTRUMENTAL - ULTRAVIOLET FLUORESCENCE</td>\n",
              "      <td>North Birmingham</td>\n",
              "      <td>NO. B'HAM,SOU R.R., 3009 28TH ST. NO.</td>\n",
              "      <td>Alabama</td>\n",
              "      <td>Jefferson</td>\n",
              "      <td>Birmingham</td>\n",
              "      <td>Birmingham-Hoover, AL</td>\n",
              "      <td>2/25/21</td>\n",
              "    </tr>\n",
              "    <tr>\n",
              "      <th>2</th>\n",
              "      <td>1</td>\n",
              "      <td>73</td>\n",
              "      <td>23</td>\n",
              "      <td>42401</td>\n",
              "      <td>2</td>\n",
              "      <td>33.553056</td>\n",
              "      <td>-86.815</td>\n",
              "      <td>WGS84</td>\n",
              "      <td>Sulfur dioxide</td>\n",
              "      <td>1 HOUR</td>\n",
              "      <td>SO2 1-hour 2010</td>\n",
              "      <td>1/3/20</td>\n",
              "      <td>Parts per billion</td>\n",
              "      <td>None</td>\n",
              "      <td>24</td>\n",
              "      <td>100</td>\n",
              "      <td>0.450000</td>\n",
              "      <td>1.0</td>\n",
              "      <td>10</td>\n",
              "      <td>1.0</td>\n",
              "      <td>100.0</td>\n",
              "      <td>INSTRUMENTAL - ULTRAVIOLET FLUORESCENCE</td>\n",
              "      <td>North Birmingham</td>\n",
              "      <td>NO. B'HAM,SOU R.R., 3009 28TH ST. NO.</td>\n",
              "      <td>Alabama</td>\n",
              "      <td>Jefferson</td>\n",
              "      <td>Birmingham</td>\n",
              "      <td>Birmingham-Hoover, AL</td>\n",
              "      <td>2/25/21</td>\n",
              "    </tr>\n",
              "  </tbody>\n",
              "</table>\n",
              "</div>"
            ],
            "text/plain": [
              "   State_Code  County_Code  ...              CBSA_Name  Date_of_Last_Change\n",
              "0           1           73  ...  Birmingham-Hoover, AL              2/25/21\n",
              "1           1           73  ...  Birmingham-Hoover, AL              2/25/21\n",
              "2           1           73  ...  Birmingham-Hoover, AL              2/25/21\n",
              "\n",
              "[3 rows x 29 columns]"
            ]
          },
          "metadata": {
            "tags": []
          },
          "execution_count": 200
        }
      ]
    },
    {
      "cell_type": "code",
      "metadata": {
        "id": "jJHNOkCGFt0b",
        "colab": {
          "base_uri": "https://localhost:8080/"
        },
        "outputId": "3ff6a3a9-b98b-4bae-aa15-03c5614f50f9"
      },
      "source": [
        "df_so2.info()"
      ],
      "execution_count": null,
      "outputs": [
        {
          "output_type": "stream",
          "text": [
            "<class 'pandas.core.frame.DataFrame'>\n",
            "RangeIndex: 324817 entries, 0 to 324816\n",
            "Data columns (total 29 columns):\n",
            " #   Column               Non-Null Count   Dtype  \n",
            "---  ------               --------------   -----  \n",
            " 0   State_Code           324817 non-null  int64  \n",
            " 1   County_Code          324817 non-null  int64  \n",
            " 2   Site_Num             324817 non-null  int64  \n",
            " 3   Parameter_Code       324817 non-null  int64  \n",
            " 4   POC                  324817 non-null  int64  \n",
            " 5   Latitude             324817 non-null  float64\n",
            " 6   Longitude            324817 non-null  float64\n",
            " 7   Datum                324817 non-null  object \n",
            " 8   Parameter_Name       324817 non-null  object \n",
            " 9   Sample_Duration      324817 non-null  object \n",
            " 10  Pollutant_Standard   324817 non-null  object \n",
            " 11  Date_Local           324817 non-null  object \n",
            " 12  Units_of_Measure     324817 non-null  object \n",
            " 13  Event_Type           324817 non-null  object \n",
            " 14  Observation_Count    324817 non-null  int64  \n",
            " 15  Observation_Percent  324817 non-null  int64  \n",
            " 16  Arithmetic_Mean      324817 non-null  float64\n",
            " 17  firstMaxValue        324817 non-null  float64\n",
            " 18  firstMaxHour         324817 non-null  int64  \n",
            " 19  AQI                  162568 non-null  float64\n",
            " 20  Method_Code          162568 non-null  float64\n",
            " 21  Method_Name          324817 non-null  object \n",
            " 22  Local_Site_Name      302706 non-null  object \n",
            " 23  Address              324564 non-null  object \n",
            " 24  State_Name           324817 non-null  object \n",
            " 25  County_Name          324817 non-null  object \n",
            " 26  City_Name            324817 non-null  object \n",
            " 27  CBSA_Name            296103 non-null  object \n",
            " 28  Date_of_Last_Change  324817 non-null  object \n",
            "dtypes: float64(6), int64(8), object(15)\n",
            "memory usage: 71.9+ MB\n"
          ],
          "name": "stdout"
        }
      ]
    },
    {
      "cell_type": "code",
      "metadata": {
        "id": "3MvNBXQoFwXZ",
        "colab": {
          "base_uri": "https://localhost:8080/",
          "height": 317
        },
        "outputId": "8ee26d67-d234-404a-8013-77f820fe9b20"
      },
      "source": [
        "df_so2.describe()"
      ],
      "execution_count": null,
      "outputs": [
        {
          "output_type": "execute_result",
          "data": {
            "text/html": [
              "<div>\n",
              "<style scoped>\n",
              "    .dataframe tbody tr th:only-of-type {\n",
              "        vertical-align: middle;\n",
              "    }\n",
              "\n",
              "    .dataframe tbody tr th {\n",
              "        vertical-align: top;\n",
              "    }\n",
              "\n",
              "    .dataframe thead th {\n",
              "        text-align: right;\n",
              "    }\n",
              "</style>\n",
              "<table border=\"1\" class=\"dataframe\">\n",
              "  <thead>\n",
              "    <tr style=\"text-align: right;\">\n",
              "      <th></th>\n",
              "      <th>State_Code</th>\n",
              "      <th>County_Code</th>\n",
              "      <th>Site_Num</th>\n",
              "      <th>Parameter_Code</th>\n",
              "      <th>POC</th>\n",
              "      <th>Latitude</th>\n",
              "      <th>Longitude</th>\n",
              "      <th>Observation_Count</th>\n",
              "      <th>Observation_Percent</th>\n",
              "      <th>Arithmetic_Mean</th>\n",
              "      <th>firstMaxValue</th>\n",
              "      <th>firstMaxHour</th>\n",
              "      <th>AQI</th>\n",
              "      <th>Method_Code</th>\n",
              "    </tr>\n",
              "  </thead>\n",
              "  <tbody>\n",
              "    <tr>\n",
              "      <th>count</th>\n",
              "      <td>324817.000000</td>\n",
              "      <td>324817.000000</td>\n",
              "      <td>324817.000000</td>\n",
              "      <td>324817.0</td>\n",
              "      <td>324817.000000</td>\n",
              "      <td>324817.000000</td>\n",
              "      <td>324817.000000</td>\n",
              "      <td>324817.000000</td>\n",
              "      <td>324817.000000</td>\n",
              "      <td>324817.000000</td>\n",
              "      <td>324817.000000</td>\n",
              "      <td>324817.000000</td>\n",
              "      <td>162568.000000</td>\n",
              "      <td>162568.000000</td>\n",
              "    </tr>\n",
              "    <tr>\n",
              "      <th>mean</th>\n",
              "      <td>30.864262</td>\n",
              "      <td>82.531244</td>\n",
              "      <td>889.302829</td>\n",
              "      <td>42401.0</td>\n",
              "      <td>1.215521</td>\n",
              "      <td>38.013604</td>\n",
              "      <td>-92.054996</td>\n",
              "      <td>15.303937</td>\n",
              "      <td>94.841689</td>\n",
              "      <td>0.802490</td>\n",
              "      <td>2.247465</td>\n",
              "      <td>9.131517</td>\n",
              "      <td>3.105599</td>\n",
              "      <td>234.380075</td>\n",
              "    </tr>\n",
              "    <tr>\n",
              "      <th>std</th>\n",
              "      <td>15.341376</td>\n",
              "      <td>88.935988</td>\n",
              "      <td>2046.985237</td>\n",
              "      <td>0.0</td>\n",
              "      <td>0.750473</td>\n",
              "      <td>5.777407</td>\n",
              "      <td>17.220362</td>\n",
              "      <td>8.000911</td>\n",
              "      <td>9.390557</td>\n",
              "      <td>3.060988</td>\n",
              "      <td>9.925539</td>\n",
              "      <td>6.747543</td>\n",
              "      <td>10.553396</td>\n",
              "      <td>230.783130</td>\n",
              "    </tr>\n",
              "    <tr>\n",
              "      <th>min</th>\n",
              "      <td>1.000000</td>\n",
              "      <td>1.000000</td>\n",
              "      <td>1.000000</td>\n",
              "      <td>42401.0</td>\n",
              "      <td>1.000000</td>\n",
              "      <td>18.420089</td>\n",
              "      <td>-159.366240</td>\n",
              "      <td>1.000000</td>\n",
              "      <td>4.000000</td>\n",
              "      <td>-3.454545</td>\n",
              "      <td>-2.600000</td>\n",
              "      <td>0.000000</td>\n",
              "      <td>0.000000</td>\n",
              "      <td>9.000000</td>\n",
              "    </tr>\n",
              "    <tr>\n",
              "      <th>25%</th>\n",
              "      <td>18.000000</td>\n",
              "      <td>19.000000</td>\n",
              "      <td>7.000000</td>\n",
              "      <td>42401.0</td>\n",
              "      <td>1.000000</td>\n",
              "      <td>35.020830</td>\n",
              "      <td>-97.431553</td>\n",
              "      <td>8.000000</td>\n",
              "      <td>92.000000</td>\n",
              "      <td>0.065217</td>\n",
              "      <td>0.200000</td>\n",
              "      <td>2.000000</td>\n",
              "      <td>0.000000</td>\n",
              "      <td>60.000000</td>\n",
              "    </tr>\n",
              "    <tr>\n",
              "      <th>50%</th>\n",
              "      <td>34.000000</td>\n",
              "      <td>59.000000</td>\n",
              "      <td>26.000000</td>\n",
              "      <td>42401.0</td>\n",
              "      <td>1.000000</td>\n",
              "      <td>39.128860</td>\n",
              "      <td>-87.577222</td>\n",
              "      <td>8.000000</td>\n",
              "      <td>100.000000</td>\n",
              "      <td>0.347826</td>\n",
              "      <td>0.700000</td>\n",
              "      <td>8.000000</td>\n",
              "      <td>0.000000</td>\n",
              "      <td>100.000000</td>\n",
              "    </tr>\n",
              "    <tr>\n",
              "      <th>75%</th>\n",
              "      <td>42.000000</td>\n",
              "      <td>115.000000</td>\n",
              "      <td>1004.000000</td>\n",
              "      <td>42401.0</td>\n",
              "      <td>1.000000</td>\n",
              "      <td>41.629930</td>\n",
              "      <td>-80.653900</td>\n",
              "      <td>24.000000</td>\n",
              "      <td>100.000000</td>\n",
              "      <td>0.895833</td>\n",
              "      <td>1.600000</td>\n",
              "      <td>14.000000</td>\n",
              "      <td>3.000000</td>\n",
              "      <td>560.000000</td>\n",
              "    </tr>\n",
              "    <tr>\n",
              "      <th>max</th>\n",
              "      <td>72.000000</td>\n",
              "      <td>710.000000</td>\n",
              "      <td>9997.000000</td>\n",
              "      <td>42401.0</td>\n",
              "      <td>9.000000</td>\n",
              "      <td>64.845690</td>\n",
              "      <td>-66.141683</td>\n",
              "      <td>24.000000</td>\n",
              "      <td>100.000000</td>\n",
              "      <td>412.328571</td>\n",
              "      <td>1980.600000</td>\n",
              "      <td>23.000000</td>\n",
              "      <td>200.000000</td>\n",
              "      <td>600.000000</td>\n",
              "    </tr>\n",
              "  </tbody>\n",
              "</table>\n",
              "</div>"
            ],
            "text/plain": [
              "          State_Code    County_Code  ...            AQI    Method_Code\n",
              "count  324817.000000  324817.000000  ...  162568.000000  162568.000000\n",
              "mean       30.864262      82.531244  ...       3.105599     234.380075\n",
              "std        15.341376      88.935988  ...      10.553396     230.783130\n",
              "min         1.000000       1.000000  ...       0.000000       9.000000\n",
              "25%        18.000000      19.000000  ...       0.000000      60.000000\n",
              "50%        34.000000      59.000000  ...       0.000000     100.000000\n",
              "75%        42.000000     115.000000  ...       3.000000     560.000000\n",
              "max        72.000000     710.000000  ...     200.000000     600.000000\n",
              "\n",
              "[8 rows x 14 columns]"
            ]
          },
          "metadata": {
            "tags": []
          },
          "execution_count": 202
        }
      ]
    },
    {
      "cell_type": "markdown",
      "metadata": {
        "id": "6LgwRup5OPO8"
      },
      "source": [
        "## Data Cleaning"
      ]
    },
    {
      "cell_type": "markdown",
      "metadata": {
        "id": "LNG3c0AjGK5k"
      },
      "source": [
        "### Dropping unnecessary columns"
      ]
    },
    {
      "cell_type": "code",
      "metadata": {
        "id": "_MX1epPZFiiJ",
        "colab": {
          "base_uri": "https://localhost:8080/",
          "height": 366
        },
        "outputId": "b6f12069-2394-4aea-db7a-3cbb592326c6"
      },
      "source": [
        "df_so2.drop('Site_Num',axis=1,inplace=True)\n",
        "df_so2.drop('Event_Type',axis=1,inplace=True)\n",
        "df_so2.drop('Parameter_Code',axis=1,inplace=True)\n",
        "df_so2.drop('POC',axis=1,inplace=True)\n",
        "df_so2.drop('Parameter_Name',axis=1,inplace=True)\n",
        "df_so2.drop('Sample_Duration',axis=1,inplace=True)\n",
        "df_so2.drop('Pollutant_Standard',axis=1,inplace=True)\n",
        "df_so2.drop('Method_Code',axis=1,inplace=True)\n",
        "df_so2.drop('Method_Name',axis=1,inplace=True)\n",
        "\n",
        "df_so2.head(3)"
      ],
      "execution_count": null,
      "outputs": [
        {
          "output_type": "execute_result",
          "data": {
            "text/html": [
              "<div>\n",
              "<style scoped>\n",
              "    .dataframe tbody tr th:only-of-type {\n",
              "        vertical-align: middle;\n",
              "    }\n",
              "\n",
              "    .dataframe tbody tr th {\n",
              "        vertical-align: top;\n",
              "    }\n",
              "\n",
              "    .dataframe thead th {\n",
              "        text-align: right;\n",
              "    }\n",
              "</style>\n",
              "<table border=\"1\" class=\"dataframe\">\n",
              "  <thead>\n",
              "    <tr style=\"text-align: right;\">\n",
              "      <th></th>\n",
              "      <th>State_Code</th>\n",
              "      <th>County_Code</th>\n",
              "      <th>Latitude</th>\n",
              "      <th>Longitude</th>\n",
              "      <th>Datum</th>\n",
              "      <th>Date_Local</th>\n",
              "      <th>Units_of_Measure</th>\n",
              "      <th>Observation_Count</th>\n",
              "      <th>Observation_Percent</th>\n",
              "      <th>Arithmetic_Mean</th>\n",
              "      <th>firstMaxValue</th>\n",
              "      <th>firstMaxHour</th>\n",
              "      <th>AQI</th>\n",
              "      <th>Local_Site_Name</th>\n",
              "      <th>Address</th>\n",
              "      <th>State_Name</th>\n",
              "      <th>County_Name</th>\n",
              "      <th>City_Name</th>\n",
              "      <th>CBSA_Name</th>\n",
              "      <th>Date_of_Last_Change</th>\n",
              "    </tr>\n",
              "  </thead>\n",
              "  <tbody>\n",
              "    <tr>\n",
              "      <th>0</th>\n",
              "      <td>1</td>\n",
              "      <td>73</td>\n",
              "      <td>33.553056</td>\n",
              "      <td>-86.815</td>\n",
              "      <td>WGS84</td>\n",
              "      <td>1/1/20</td>\n",
              "      <td>Parts per billion</td>\n",
              "      <td>21</td>\n",
              "      <td>88</td>\n",
              "      <td>2.509524</td>\n",
              "      <td>13.5</td>\n",
              "      <td>11</td>\n",
              "      <td>19.0</td>\n",
              "      <td>North Birmingham</td>\n",
              "      <td>NO. B'HAM,SOU R.R., 3009 28TH ST. NO.</td>\n",
              "      <td>Alabama</td>\n",
              "      <td>Jefferson</td>\n",
              "      <td>Birmingham</td>\n",
              "      <td>Birmingham-Hoover, AL</td>\n",
              "      <td>2/25/21</td>\n",
              "    </tr>\n",
              "    <tr>\n",
              "      <th>1</th>\n",
              "      <td>1</td>\n",
              "      <td>73</td>\n",
              "      <td>33.553056</td>\n",
              "      <td>-86.815</td>\n",
              "      <td>WGS84</td>\n",
              "      <td>1/2/20</td>\n",
              "      <td>Parts per billion</td>\n",
              "      <td>24</td>\n",
              "      <td>100</td>\n",
              "      <td>1.262500</td>\n",
              "      <td>4.8</td>\n",
              "      <td>0</td>\n",
              "      <td>6.0</td>\n",
              "      <td>North Birmingham</td>\n",
              "      <td>NO. B'HAM,SOU R.R., 3009 28TH ST. NO.</td>\n",
              "      <td>Alabama</td>\n",
              "      <td>Jefferson</td>\n",
              "      <td>Birmingham</td>\n",
              "      <td>Birmingham-Hoover, AL</td>\n",
              "      <td>2/25/21</td>\n",
              "    </tr>\n",
              "    <tr>\n",
              "      <th>2</th>\n",
              "      <td>1</td>\n",
              "      <td>73</td>\n",
              "      <td>33.553056</td>\n",
              "      <td>-86.815</td>\n",
              "      <td>WGS84</td>\n",
              "      <td>1/3/20</td>\n",
              "      <td>Parts per billion</td>\n",
              "      <td>24</td>\n",
              "      <td>100</td>\n",
              "      <td>0.450000</td>\n",
              "      <td>1.0</td>\n",
              "      <td>10</td>\n",
              "      <td>1.0</td>\n",
              "      <td>North Birmingham</td>\n",
              "      <td>NO. B'HAM,SOU R.R., 3009 28TH ST. NO.</td>\n",
              "      <td>Alabama</td>\n",
              "      <td>Jefferson</td>\n",
              "      <td>Birmingham</td>\n",
              "      <td>Birmingham-Hoover, AL</td>\n",
              "      <td>2/25/21</td>\n",
              "    </tr>\n",
              "  </tbody>\n",
              "</table>\n",
              "</div>"
            ],
            "text/plain": [
              "   State_Code  County_Code  ...              CBSA_Name  Date_of_Last_Change\n",
              "0           1           73  ...  Birmingham-Hoover, AL              2/25/21\n",
              "1           1           73  ...  Birmingham-Hoover, AL              2/25/21\n",
              "2           1           73  ...  Birmingham-Hoover, AL              2/25/21\n",
              "\n",
              "[3 rows x 20 columns]"
            ]
          },
          "metadata": {
            "tags": []
          },
          "execution_count": 203
        }
      ]
    },
    {
      "cell_type": "markdown",
      "metadata": {
        "id": "h7Tyxl1YOUbY"
      },
      "source": [
        "## Removing missing valuse for AQI"
      ]
    },
    {
      "cell_type": "markdown",
      "metadata": {
        "id": "AM0T9hLmTecA"
      },
      "source": [
        "The information shows that AQI has some null values. This will eliminate those values. "
      ]
    },
    {
      "cell_type": "code",
      "metadata": {
        "id": "tP0S36TKOYaG"
      },
      "source": [
        "df_so2_ = df_so2.dropna()"
      ],
      "execution_count": null,
      "outputs": []
    },
    {
      "cell_type": "code",
      "metadata": {
        "id": "gScQdg4ukgpF",
        "colab": {
          "base_uri": "https://localhost:8080/",
          "height": 336
        },
        "outputId": "bed4113a-d47a-491a-cc34-9c0b5a5cda94"
      },
      "source": [
        "df_so2_[['AQI','State_Name']].groupby([\"State_Name\"]).median().sort_values(by='AQI',ascending=False).head(10).plot.bar(color='r')\n",
        "plt.show()"
      ],
      "execution_count": null,
      "outputs": [
        {
          "output_type": "display_data",
          "data": {
            "image/png": "[encoded data removed]",
            "text/plain": [
              "<Figure size 432x288 with 1 Axes>"
            ]
          },
          "metadata": {
            "tags": [],
            "needs_background": "light"
          }
        }
      ]
    },
    {
      "cell_type": "code",
      "metadata": {
        "id": "EoaB7DjQfdNn",
        "colab": {
          "base_uri": "https://localhost:8080/",
          "height": 349
        },
        "outputId": "2a126f0f-c46e-496b-daf8-191f6420bfac"
      },
      "source": [
        "df_so2_[['AQI','State_Name']].groupby([\"State_Name\"]).median().sort_values(by='AQI',ascending=True).head(10).plot.bar(color='b')\n",
        "plt.show()"
      ],
      "execution_count": null,
      "outputs": [
        {
          "output_type": "display_data",
          "data": {
            "image/png": "[encoded data removed]",
            "text/plain": [
              "<Figure size 432x288 with 1 Axes>"
            ]
          },
          "metadata": {
            "tags": [],
            "needs_background": "light"
          }
        }
      ]
    },
    {
      "cell_type": "markdown",
      "metadata": {
        "id": "86ieZpYlC5Wn"
      },
      "source": [
        "###Carbon Monoxide"
      ]
    },
    {
      "cell_type": "code",
      "metadata": {
        "id": "z3wyEKZu_6GZ",
        "colab": {
          "base_uri": "https://localhost:8080/",
          "height": 366
        },
        "outputId": "d655888e-8101-4897-9085-07f2e835d0fa"
      },
      "source": [
        "df_co=pd.read_csv('daily_carbonmonoxide_2020.csv')\n",
        "df_co.head(3)"
      ],
      "execution_count": null,
      "outputs": [
        {
          "output_type": "execute_result",
          "data": {
            "text/html": [
              "<div>\n",
              "<style scoped>\n",
              "    .dataframe tbody tr th:only-of-type {\n",
              "        vertical-align: middle;\n",
              "    }\n",
              "\n",
              "    .dataframe tbody tr th {\n",
              "        vertical-align: top;\n",
              "    }\n",
              "\n",
              "    .dataframe thead th {\n",
              "        text-align: right;\n",
              "    }\n",
              "</style>\n",
              "<table border=\"1\" class=\"dataframe\">\n",
              "  <thead>\n",
              "    <tr style=\"text-align: right;\">\n",
              "      <th></th>\n",
              "      <th>State_Code</th>\n",
              "      <th>County_Code</th>\n",
              "      <th>Site_Num</th>\n",
              "      <th>Parameter_Code</th>\n",
              "      <th>POC</th>\n",
              "      <th>Latitude</th>\n",
              "      <th>Longitude</th>\n",
              "      <th>Datum</th>\n",
              "      <th>Parameter_Name</th>\n",
              "      <th>Sample_Duration</th>\n",
              "      <th>Pollutant_Standard</th>\n",
              "      <th>Date_Local</th>\n",
              "      <th>Units_of_Measure</th>\n",
              "      <th>Event_Type</th>\n",
              "      <th>Observation_Count</th>\n",
              "      <th>Observation_Percent</th>\n",
              "      <th>Arithmetic_Mean</th>\n",
              "      <th>firstMaxValue</th>\n",
              "      <th>firstMaxHour</th>\n",
              "      <th>AQI</th>\n",
              "      <th>Method_Code</th>\n",
              "      <th>Method_Name</th>\n",
              "      <th>Local_Site_Name</th>\n",
              "      <th>Address</th>\n",
              "      <th>State_Name</th>\n",
              "      <th>County_Name</th>\n",
              "      <th>City_Name</th>\n",
              "      <th>CBSA_Name</th>\n",
              "      <th>Date_of_Last_Change</th>\n",
              "    </tr>\n",
              "  </thead>\n",
              "  <tbody>\n",
              "    <tr>\n",
              "      <th>0</th>\n",
              "      <td>1</td>\n",
              "      <td>73</td>\n",
              "      <td>23</td>\n",
              "      <td>42101</td>\n",
              "      <td>2</td>\n",
              "      <td>33.553056</td>\n",
              "      <td>-86.815</td>\n",
              "      <td>WGS84</td>\n",
              "      <td>Carbon monoxide</td>\n",
              "      <td>1 HOUR</td>\n",
              "      <td>CO 1-hour 1971</td>\n",
              "      <td>1/1/20</td>\n",
              "      <td>Parts per million</td>\n",
              "      <td>None</td>\n",
              "      <td>21</td>\n",
              "      <td>88</td>\n",
              "      <td>0.295238</td>\n",
              "      <td>0.7</td>\n",
              "      <td>7</td>\n",
              "      <td>NaN</td>\n",
              "      <td>93.0</td>\n",
              "      <td>INSTRUMENTAL - GAS FILTER CORRELATION CO ANALYZER</td>\n",
              "      <td>North Birmingham</td>\n",
              "      <td>NO. B'HAM,SOU R.R., 3009 28TH ST. NO.</td>\n",
              "      <td>Alabama</td>\n",
              "      <td>Jefferson</td>\n",
              "      <td>Birmingham</td>\n",
              "      <td>Birmingham-Hoover, AL</td>\n",
              "      <td>4/12/21</td>\n",
              "    </tr>\n",
              "    <tr>\n",
              "      <th>1</th>\n",
              "      <td>1</td>\n",
              "      <td>73</td>\n",
              "      <td>23</td>\n",
              "      <td>42101</td>\n",
              "      <td>2</td>\n",
              "      <td>33.553056</td>\n",
              "      <td>-86.815</td>\n",
              "      <td>WGS84</td>\n",
              "      <td>Carbon monoxide</td>\n",
              "      <td>1 HOUR</td>\n",
              "      <td>CO 1-hour 1971</td>\n",
              "      <td>1/2/20</td>\n",
              "      <td>Parts per million</td>\n",
              "      <td>None</td>\n",
              "      <td>24</td>\n",
              "      <td>100</td>\n",
              "      <td>0.250000</td>\n",
              "      <td>0.6</td>\n",
              "      <td>12</td>\n",
              "      <td>NaN</td>\n",
              "      <td>93.0</td>\n",
              "      <td>INSTRUMENTAL - GAS FILTER CORRELATION CO ANALYZER</td>\n",
              "      <td>North Birmingham</td>\n",
              "      <td>NO. B'HAM,SOU R.R., 3009 28TH ST. NO.</td>\n",
              "      <td>Alabama</td>\n",
              "      <td>Jefferson</td>\n",
              "      <td>Birmingham</td>\n",
              "      <td>Birmingham-Hoover, AL</td>\n",
              "      <td>4/12/21</td>\n",
              "    </tr>\n",
              "    <tr>\n",
              "      <th>2</th>\n",
              "      <td>1</td>\n",
              "      <td>73</td>\n",
              "      <td>23</td>\n",
              "      <td>42101</td>\n",
              "      <td>2</td>\n",
              "      <td>33.553056</td>\n",
              "      <td>-86.815</td>\n",
              "      <td>WGS84</td>\n",
              "      <td>Carbon monoxide</td>\n",
              "      <td>1 HOUR</td>\n",
              "      <td>CO 1-hour 1971</td>\n",
              "      <td>1/3/20</td>\n",
              "      <td>Parts per million</td>\n",
              "      <td>None</td>\n",
              "      <td>24</td>\n",
              "      <td>100</td>\n",
              "      <td>0.308333</td>\n",
              "      <td>0.7</td>\n",
              "      <td>10</td>\n",
              "      <td>NaN</td>\n",
              "      <td>93.0</td>\n",
              "      <td>INSTRUMENTAL - GAS FILTER CORRELATION CO ANALYZER</td>\n",
              "      <td>North Birmingham</td>\n",
              "      <td>NO. B'HAM,SOU R.R., 3009 28TH ST. NO.</td>\n",
              "      <td>Alabama</td>\n",
              "      <td>Jefferson</td>\n",
              "      <td>Birmingham</td>\n",
              "      <td>Birmingham-Hoover, AL</td>\n",
              "      <td>4/12/21</td>\n",
              "    </tr>\n",
              "  </tbody>\n",
              "</table>\n",
              "</div>"
            ],
            "text/plain": [
              "   State_Code  County_Code  ...              CBSA_Name  Date_of_Last_Change\n",
              "0           1           73  ...  Birmingham-Hoover, AL              4/12/21\n",
              "1           1           73  ...  Birmingham-Hoover, AL              4/12/21\n",
              "2           1           73  ...  Birmingham-Hoover, AL              4/12/21\n",
              "\n",
              "[3 rows x 29 columns]"
            ]
          },
          "metadata": {
            "tags": []
          },
          "execution_count": 207
        }
      ]
    },
    {
      "cell_type": "code",
      "metadata": {
        "id": "1YbxkMGtGpp6",
        "colab": {
          "base_uri": "https://localhost:8080/"
        },
        "outputId": "bbe5a5c9-5d14-4b60-ed64-abc54069dad4"
      },
      "source": [
        "df_co.info()"
      ],
      "execution_count": null,
      "outputs": [
        {
          "output_type": "stream",
          "text": [
            "<class 'pandas.core.frame.DataFrame'>\n",
            "RangeIndex: 178789 entries, 0 to 178788\n",
            "Data columns (total 29 columns):\n",
            " #   Column               Non-Null Count   Dtype  \n",
            "---  ------               --------------   -----  \n",
            " 0   State_Code           178789 non-null  int64  \n",
            " 1   County_Code          178789 non-null  int64  \n",
            " 2   Site_Num             178789 non-null  int64  \n",
            " 3   Parameter_Code       178789 non-null  int64  \n",
            " 4   POC                  178789 non-null  int64  \n",
            " 5   Latitude             178789 non-null  float64\n",
            " 6   Longitude            178789 non-null  float64\n",
            " 7   Datum                178789 non-null  object \n",
            " 8   Parameter_Name       178789 non-null  object \n",
            " 9   Sample_Duration      178789 non-null  object \n",
            " 10  Pollutant_Standard   178789 non-null  object \n",
            " 11  Date_Local           178789 non-null  object \n",
            " 12  Units_of_Measure     178789 non-null  object \n",
            " 13  Event_Type           178789 non-null  object \n",
            " 14  Observation_Count    178789 non-null  int64  \n",
            " 15  Observation_Percent  178789 non-null  int64  \n",
            " 16  Arithmetic_Mean      178789 non-null  float64\n",
            " 17  firstMaxValue        178789 non-null  float64\n",
            " 18  firstMaxHour         178789 non-null  int64  \n",
            " 19  AQI                  89385 non-null   float64\n",
            " 20  Method_Code          89404 non-null   float64\n",
            " 21  Method_Name          178789 non-null  object \n",
            " 22  Local_Site_Name      172908 non-null  object \n",
            " 23  Address              178789 non-null  object \n",
            " 24  State_Name           178789 non-null  object \n",
            " 25  County_Name          178789 non-null  object \n",
            " 26  City_Name            178789 non-null  object \n",
            " 27  CBSA_Name            175182 non-null  object \n",
            " 28  Date_of_Last_Change  178789 non-null  object \n",
            "dtypes: float64(6), int64(8), object(15)\n",
            "memory usage: 39.6+ MB\n"
          ],
          "name": "stdout"
        }
      ]
    },
    {
      "cell_type": "markdown",
      "metadata": {
        "id": "K8y-ulboO8Ug"
      },
      "source": [
        "## Data Cleaning\n",
        "Dropping Unnecessary columns"
      ]
    },
    {
      "cell_type": "code",
      "metadata": {
        "id": "Sgu3Nk09GxNe",
        "colab": {
          "base_uri": "https://localhost:8080/",
          "height": 366
        },
        "outputId": "c1ab3332-22fe-44f6-fbb1-64c27eecb56c"
      },
      "source": [
        "df_co.drop('Site_Num',axis=1,inplace=True)\n",
        "df_co.drop('Event_Type',axis=1,inplace=True)\n",
        "df_co.drop('Parameter_Code',axis=1,inplace=True)\n",
        "df_co.drop('POC',axis=1,inplace=True)\n",
        "df_co.drop('Parameter_Name',axis=1,inplace=True)\n",
        "df_co.drop('Sample_Duration',axis=1,inplace=True)\n",
        "df_co.drop('Pollutant_Standard',axis=1,inplace=True)\n",
        "df_co.drop('Method_Code',axis=1,inplace=True)\n",
        "df_co.drop('Method_Name',axis=1,inplace=True)\n",
        "\n",
        "df_co.head(3)"
      ],
      "execution_count": null,
      "outputs": [
        {
          "output_type": "execute_result",
          "data": {
            "text/html": [
              "<div>\n",
              "<style scoped>\n",
              "    .dataframe tbody tr th:only-of-type {\n",
              "        vertical-align: middle;\n",
              "    }\n",
              "\n",
              "    .dataframe tbody tr th {\n",
              "        vertical-align: top;\n",
              "    }\n",
              "\n",
              "    .dataframe thead th {\n",
              "        text-align: right;\n",
              "    }\n",
              "</style>\n",
              "<table border=\"1\" class=\"dataframe\">\n",
              "  <thead>\n",
              "    <tr style=\"text-align: right;\">\n",
              "      <th></th>\n",
              "      <th>State_Code</th>\n",
              "      <th>County_Code</th>\n",
              "      <th>Latitude</th>\n",
              "      <th>Longitude</th>\n",
              "      <th>Datum</th>\n",
              "      <th>Date_Local</th>\n",
              "      <th>Units_of_Measure</th>\n",
              "      <th>Observation_Count</th>\n",
              "      <th>Observation_Percent</th>\n",
              "      <th>Arithmetic_Mean</th>\n",
              "      <th>firstMaxValue</th>\n",
              "      <th>firstMaxHour</th>\n",
              "      <th>AQI</th>\n",
              "      <th>Local_Site_Name</th>\n",
              "      <th>Address</th>\n",
              "      <th>State_Name</th>\n",
              "      <th>County_Name</th>\n",
              "      <th>City_Name</th>\n",
              "      <th>CBSA_Name</th>\n",
              "      <th>Date_of_Last_Change</th>\n",
              "    </tr>\n",
              "  </thead>\n",
              "  <tbody>\n",
              "    <tr>\n",
              "      <th>0</th>\n",
              "      <td>1</td>\n",
              "      <td>73</td>\n",
              "      <td>33.553056</td>\n",
              "      <td>-86.815</td>\n",
              "      <td>WGS84</td>\n",
              "      <td>1/1/20</td>\n",
              "      <td>Parts per million</td>\n",
              "      <td>21</td>\n",
              "      <td>88</td>\n",
              "      <td>0.295238</td>\n",
              "      <td>0.7</td>\n",
              "      <td>7</td>\n",
              "      <td>NaN</td>\n",
              "      <td>North Birmingham</td>\n",
              "      <td>NO. B'HAM,SOU R.R., 3009 28TH ST. NO.</td>\n",
              "      <td>Alabama</td>\n",
              "      <td>Jefferson</td>\n",
              "      <td>Birmingham</td>\n",
              "      <td>Birmingham-Hoover, AL</td>\n",
              "      <td>4/12/21</td>\n",
              "    </tr>\n",
              "    <tr>\n",
              "      <th>1</th>\n",
              "      <td>1</td>\n",
              "      <td>73</td>\n",
              "      <td>33.553056</td>\n",
              "      <td>-86.815</td>\n",
              "      <td>WGS84</td>\n",
              "      <td>1/2/20</td>\n",
              "      <td>Parts per million</td>\n",
              "      <td>24</td>\n",
              "      <td>100</td>\n",
              "      <td>0.250000</td>\n",
              "      <td>0.6</td>\n",
              "      <td>12</td>\n",
              "      <td>NaN</td>\n",
              "      <td>North Birmingham</td>\n",
              "      <td>NO. B'HAM,SOU R.R., 3009 28TH ST. NO.</td>\n",
              "      <td>Alabama</td>\n",
              "      <td>Jefferson</td>\n",
              "      <td>Birmingham</td>\n",
              "      <td>Birmingham-Hoover, AL</td>\n",
              "      <td>4/12/21</td>\n",
              "    </tr>\n",
              "    <tr>\n",
              "      <th>2</th>\n",
              "      <td>1</td>\n",
              "      <td>73</td>\n",
              "      <td>33.553056</td>\n",
              "      <td>-86.815</td>\n",
              "      <td>WGS84</td>\n",
              "      <td>1/3/20</td>\n",
              "      <td>Parts per million</td>\n",
              "      <td>24</td>\n",
              "      <td>100</td>\n",
              "      <td>0.308333</td>\n",
              "      <td>0.7</td>\n",
              "      <td>10</td>\n",
              "      <td>NaN</td>\n",
              "      <td>North Birmingham</td>\n",
              "      <td>NO. B'HAM,SOU R.R., 3009 28TH ST. NO.</td>\n",
              "      <td>Alabama</td>\n",
              "      <td>Jefferson</td>\n",
              "      <td>Birmingham</td>\n",
              "      <td>Birmingham-Hoover, AL</td>\n",
              "      <td>4/12/21</td>\n",
              "    </tr>\n",
              "  </tbody>\n",
              "</table>\n",
              "</div>"
            ],
            "text/plain": [
              "   State_Code  County_Code  ...              CBSA_Name  Date_of_Last_Change\n",
              "0           1           73  ...  Birmingham-Hoover, AL              4/12/21\n",
              "1           1           73  ...  Birmingham-Hoover, AL              4/12/21\n",
              "2           1           73  ...  Birmingham-Hoover, AL              4/12/21\n",
              "\n",
              "[3 rows x 20 columns]"
            ]
          },
          "metadata": {
            "tags": []
          },
          "execution_count": 209
        }
      ]
    },
    {
      "cell_type": "code",
      "metadata": {
        "id": "7SgrjlTBuCij"
      },
      "source": [
        "df_co= df_co.dropna()"
      ],
      "execution_count": null,
      "outputs": []
    },
    {
      "cell_type": "code",
      "metadata": {
        "id": "LjSycwxvesoR",
        "colab": {
          "base_uri": "https://localhost:8080/",
          "height": 371
        },
        "outputId": "88b50a9d-4dfd-4015-fc55-cb9d2053894c"
      },
      "source": [
        "df_co[['AQI','State_Name']].groupby([\"State_Name\"]).median().sort_values(by='AQI',ascending=False).head(10).plot.bar(color='r')\n",
        "plt.show()"
      ],
      "execution_count": null,
      "outputs": [
        {
          "output_type": "display_data",
          "data": {
            "image/png": "[encoded data removed]",
            "text/plain": [
              "<Figure size 432x288 with 1 Axes>"
            ]
          },
          "metadata": {
            "tags": [],
            "needs_background": "light"
          }
        }
      ]
    },
    {
      "cell_type": "code",
      "metadata": {
        "id": "tdKExVksevN_",
        "colab": {
          "base_uri": "https://localhost:8080/",
          "height": 349
        },
        "outputId": "28f59c8c-0564-44da-c4f3-bca91cd8cc23"
      },
      "source": [
        "df_co[['AQI','State_Name']].groupby([\"State_Name\"]).median().sort_values(by='AQI',ascending=True).head(10).plot.bar(color='b')\n",
        "plt.show()"
      ],
      "execution_count": null,
      "outputs": [
        {
          "output_type": "display_data",
          "data": {
            "image/png": "[encoded data removed]",
            "text/plain": [
              "<Figure size 432x288 with 1 Axes>"
            ]
          },
          "metadata": {
            "tags": [],
            "needs_background": "light"
          }
        }
      ]
    },
    {
      "cell_type": "markdown",
      "metadata": {
        "id": "XRCoBbQ0C63r"
      },
      "source": [
        "###Nitrogen Dioxide"
      ]
    },
    {
      "cell_type": "code",
      "metadata": {
        "id": "ic_ZRthN_6Ie",
        "colab": {
          "base_uri": "https://localhost:8080/",
          "height": 366
        },
        "outputId": "27676999-3171-4bc4-abff-8f91bb5f7195"
      },
      "source": [
        "df_no2 = pd.read_csv('daily_Nitrogen dioxide _2020.csv')\n",
        "df_no2.head(3)"
      ],
      "execution_count": null,
      "outputs": [
        {
          "output_type": "execute_result",
          "data": {
            "text/html": [
              "<div>\n",
              "<style scoped>\n",
              "    .dataframe tbody tr th:only-of-type {\n",
              "        vertical-align: middle;\n",
              "    }\n",
              "\n",
              "    .dataframe tbody tr th {\n",
              "        vertical-align: top;\n",
              "    }\n",
              "\n",
              "    .dataframe thead th {\n",
              "        text-align: right;\n",
              "    }\n",
              "</style>\n",
              "<table border=\"1\" class=\"dataframe\">\n",
              "  <thead>\n",
              "    <tr style=\"text-align: right;\">\n",
              "      <th></th>\n",
              "      <th>State_Code</th>\n",
              "      <th>County_Code</th>\n",
              "      <th>Site_Num</th>\n",
              "      <th>Parameter_Code</th>\n",
              "      <th>POC</th>\n",
              "      <th>Latitude</th>\n",
              "      <th>Longitude</th>\n",
              "      <th>Datum</th>\n",
              "      <th>Parameter_Name</th>\n",
              "      <th>Sample_Duration</th>\n",
              "      <th>Pollutant_Standard</th>\n",
              "      <th>Date_Local</th>\n",
              "      <th>Units_of_Measure</th>\n",
              "      <th>Event_Type</th>\n",
              "      <th>Observation_Count</th>\n",
              "      <th>Observation_Percent</th>\n",
              "      <th>Arithmetic_Mean</th>\n",
              "      <th>firstMaxValue</th>\n",
              "      <th>firstMaxHour</th>\n",
              "      <th>AQI</th>\n",
              "      <th>Method_Code</th>\n",
              "      <th>Method_Name</th>\n",
              "      <th>Local_Site_Name</th>\n",
              "      <th>Address</th>\n",
              "      <th>State_Name</th>\n",
              "      <th>County_Name</th>\n",
              "      <th>City_Name</th>\n",
              "      <th>CBSA_Name</th>\n",
              "      <th>Date_of_Last_Change</th>\n",
              "    </tr>\n",
              "  </thead>\n",
              "  <tbody>\n",
              "    <tr>\n",
              "      <th>0</th>\n",
              "      <td>1</td>\n",
              "      <td>73</td>\n",
              "      <td>23</td>\n",
              "      <td>42602</td>\n",
              "      <td>1</td>\n",
              "      <td>33.553056</td>\n",
              "      <td>-86.815</td>\n",
              "      <td>WGS84</td>\n",
              "      <td>Nitrogen dioxide (NO2)</td>\n",
              "      <td>1 HOUR</td>\n",
              "      <td>NO2 1-hour</td>\n",
              "      <td>1/1/20</td>\n",
              "      <td>Parts per billion</td>\n",
              "      <td>None</td>\n",
              "      <td>21</td>\n",
              "      <td>88</td>\n",
              "      <td>15.752381</td>\n",
              "      <td>28.2</td>\n",
              "      <td>6</td>\n",
              "      <td>26</td>\n",
              "      <td>200</td>\n",
              "      <td>Teledyne-API Model 200EUP or T200UP - Photolyt...</td>\n",
              "      <td>North Birmingham</td>\n",
              "      <td>NO. B'HAM,SOU R.R., 3009 28TH ST. NO.</td>\n",
              "      <td>Alabama</td>\n",
              "      <td>Jefferson</td>\n",
              "      <td>Birmingham</td>\n",
              "      <td>Birmingham-Hoover, AL</td>\n",
              "      <td>2/25/21</td>\n",
              "    </tr>\n",
              "    <tr>\n",
              "      <th>1</th>\n",
              "      <td>1</td>\n",
              "      <td>73</td>\n",
              "      <td>23</td>\n",
              "      <td>42602</td>\n",
              "      <td>1</td>\n",
              "      <td>33.553056</td>\n",
              "      <td>-86.815</td>\n",
              "      <td>WGS84</td>\n",
              "      <td>Nitrogen dioxide (NO2)</td>\n",
              "      <td>1 HOUR</td>\n",
              "      <td>NO2 1-hour</td>\n",
              "      <td>1/2/20</td>\n",
              "      <td>Parts per billion</td>\n",
              "      <td>None</td>\n",
              "      <td>24</td>\n",
              "      <td>100</td>\n",
              "      <td>9.595833</td>\n",
              "      <td>16.3</td>\n",
              "      <td>10</td>\n",
              "      <td>15</td>\n",
              "      <td>200</td>\n",
              "      <td>Teledyne-API Model 200EUP or T200UP - Photolyt...</td>\n",
              "      <td>North Birmingham</td>\n",
              "      <td>NO. B'HAM,SOU R.R., 3009 28TH ST. NO.</td>\n",
              "      <td>Alabama</td>\n",
              "      <td>Jefferson</td>\n",
              "      <td>Birmingham</td>\n",
              "      <td>Birmingham-Hoover, AL</td>\n",
              "      <td>2/25/21</td>\n",
              "    </tr>\n",
              "    <tr>\n",
              "      <th>2</th>\n",
              "      <td>1</td>\n",
              "      <td>73</td>\n",
              "      <td>23</td>\n",
              "      <td>42602</td>\n",
              "      <td>1</td>\n",
              "      <td>33.553056</td>\n",
              "      <td>-86.815</td>\n",
              "      <td>WGS84</td>\n",
              "      <td>Nitrogen dioxide (NO2)</td>\n",
              "      <td>1 HOUR</td>\n",
              "      <td>NO2 1-hour</td>\n",
              "      <td>1/3/20</td>\n",
              "      <td>Parts per billion</td>\n",
              "      <td>None</td>\n",
              "      <td>24</td>\n",
              "      <td>100</td>\n",
              "      <td>17.300000</td>\n",
              "      <td>31.6</td>\n",
              "      <td>10</td>\n",
              "      <td>29</td>\n",
              "      <td>200</td>\n",
              "      <td>Teledyne-API Model 200EUP or T200UP - Photolyt...</td>\n",
              "      <td>North Birmingham</td>\n",
              "      <td>NO. B'HAM,SOU R.R., 3009 28TH ST. NO.</td>\n",
              "      <td>Alabama</td>\n",
              "      <td>Jefferson</td>\n",
              "      <td>Birmingham</td>\n",
              "      <td>Birmingham-Hoover, AL</td>\n",
              "      <td>2/25/21</td>\n",
              "    </tr>\n",
              "  </tbody>\n",
              "</table>\n",
              "</div>"
            ],
            "text/plain": [
              "   State_Code  County_Code  ...              CBSA_Name  Date_of_Last_Change\n",
              "0           1           73  ...  Birmingham-Hoover, AL              2/25/21\n",
              "1           1           73  ...  Birmingham-Hoover, AL              2/25/21\n",
              "2           1           73  ...  Birmingham-Hoover, AL              2/25/21\n",
              "\n",
              "[3 rows x 29 columns]"
            ]
          },
          "metadata": {
            "tags": []
          },
          "execution_count": 213
        }
      ]
    },
    {
      "cell_type": "code",
      "metadata": {
        "id": "W2BeTGCbBBfd",
        "colab": {
          "base_uri": "https://localhost:8080/"
        },
        "outputId": "b4d3183d-6177-4eae-ec1a-e2d38c5a457c"
      },
      "source": [
        "df_no2.info()"
      ],
      "execution_count": null,
      "outputs": [
        {
          "output_type": "stream",
          "text": [
            "<class 'pandas.core.frame.DataFrame'>\n",
            "RangeIndex: 157726 entries, 0 to 157725\n",
            "Data columns (total 29 columns):\n",
            " #   Column               Non-Null Count   Dtype  \n",
            "---  ------               --------------   -----  \n",
            " 0   State_Code           157726 non-null  int64  \n",
            " 1   County_Code          157726 non-null  int64  \n",
            " 2   Site_Num             157726 non-null  int64  \n",
            " 3   Parameter_Code       157726 non-null  int64  \n",
            " 4   POC                  157726 non-null  int64  \n",
            " 5   Latitude             157726 non-null  float64\n",
            " 6   Longitude            157726 non-null  float64\n",
            " 7   Datum                157726 non-null  object \n",
            " 8   Parameter_Name       157726 non-null  object \n",
            " 9   Sample_Duration      157726 non-null  object \n",
            " 10  Pollutant_Standard   157726 non-null  object \n",
            " 11  Date_Local           157726 non-null  object \n",
            " 12  Units_of_Measure     157726 non-null  object \n",
            " 13  Event_Type           157726 non-null  object \n",
            " 14  Observation_Count    157726 non-null  int64  \n",
            " 15  Observation_Percent  157726 non-null  int64  \n",
            " 16  Arithmetic_Mean      157726 non-null  float64\n",
            " 17  firstMaxValue        157726 non-null  float64\n",
            " 18  firstMaxHour         157726 non-null  int64  \n",
            " 19  AQI                  157726 non-null  int64  \n",
            " 20  Method_Code          157726 non-null  int64  \n",
            " 21  Method_Name          157726 non-null  object \n",
            " 22  Local_Site_Name      148808 non-null  object \n",
            " 23  Address              157591 non-null  object \n",
            " 24  State_Name           157726 non-null  object \n",
            " 25  County_Name          157726 non-null  object \n",
            " 26  City_Name            157726 non-null  object \n",
            " 27  CBSA_Name            146668 non-null  object \n",
            " 28  Date_of_Last_Change  157726 non-null  object \n",
            "dtypes: float64(4), int64(10), object(15)\n",
            "memory usage: 34.9+ MB\n"
          ],
          "name": "stdout"
        }
      ]
    },
    {
      "cell_type": "code",
      "metadata": {
        "id": "gl2rz1JTI-6U",
        "colab": {
          "base_uri": "https://localhost:8080/",
          "height": 317
        },
        "outputId": "7dca8aa6-5fba-4216-8cb9-d4f703adcd0d"
      },
      "source": [
        "df_no2.describe()"
      ],
      "execution_count": null,
      "outputs": [
        {
          "output_type": "execute_result",
          "data": {
            "text/html": [
              "<div>\n",
              "<style scoped>\n",
              "    .dataframe tbody tr th:only-of-type {\n",
              "        vertical-align: middle;\n",
              "    }\n",
              "\n",
              "    .dataframe tbody tr th {\n",
              "        vertical-align: top;\n",
              "    }\n",
              "\n",
              "    .dataframe thead th {\n",
              "        text-align: right;\n",
              "    }\n",
              "</style>\n",
              "<table border=\"1\" class=\"dataframe\">\n",
              "  <thead>\n",
              "    <tr style=\"text-align: right;\">\n",
              "      <th></th>\n",
              "      <th>State_Code</th>\n",
              "      <th>County_Code</th>\n",
              "      <th>Site_Num</th>\n",
              "      <th>Parameter_Code</th>\n",
              "      <th>POC</th>\n",
              "      <th>Latitude</th>\n",
              "      <th>Longitude</th>\n",
              "      <th>Observation_Count</th>\n",
              "      <th>Observation_Percent</th>\n",
              "      <th>Arithmetic_Mean</th>\n",
              "      <th>firstMaxValue</th>\n",
              "      <th>firstMaxHour</th>\n",
              "      <th>AQI</th>\n",
              "      <th>Method_Code</th>\n",
              "    </tr>\n",
              "  </thead>\n",
              "  <tbody>\n",
              "    <tr>\n",
              "      <th>count</th>\n",
              "      <td>157726.000000</td>\n",
              "      <td>157726.000000</td>\n",
              "      <td>157726.000000</td>\n",
              "      <td>157726.0</td>\n",
              "      <td>157726.000000</td>\n",
              "      <td>157726.000000</td>\n",
              "      <td>157726.000000</td>\n",
              "      <td>157726.000000</td>\n",
              "      <td>157726.000000</td>\n",
              "      <td>157726.000000</td>\n",
              "      <td>157726.000000</td>\n",
              "      <td>157726.000000</td>\n",
              "      <td>157726.000000</td>\n",
              "      <td>157726.000000</td>\n",
              "    </tr>\n",
              "    <tr>\n",
              "      <th>mean</th>\n",
              "      <td>28.224034</td>\n",
              "      <td>81.052230</td>\n",
              "      <td>913.154940</td>\n",
              "      <td>42602.0</td>\n",
              "      <td>1.190495</td>\n",
              "      <td>37.403598</td>\n",
              "      <td>-99.055118</td>\n",
              "      <td>23.033780</td>\n",
              "      <td>96.065912</td>\n",
              "      <td>7.586891</td>\n",
              "      <td>15.963930</td>\n",
              "      <td>11.265853</td>\n",
              "      <td>14.748824</td>\n",
              "      <td>151.313018</td>\n",
              "    </tr>\n",
              "    <tr>\n",
              "      <th>std</th>\n",
              "      <td>17.954731</td>\n",
              "      <td>102.965524</td>\n",
              "      <td>1794.275521</td>\n",
              "      <td>0.0</td>\n",
              "      <td>0.635996</td>\n",
              "      <td>4.912019</td>\n",
              "      <td>16.943439</td>\n",
              "      <td>2.026238</td>\n",
              "      <td>8.412856</td>\n",
              "      <td>6.939440</td>\n",
              "      <td>12.149717</td>\n",
              "      <td>7.795979</td>\n",
              "      <td>11.434889</td>\n",
              "      <td>144.907793</td>\n",
              "    </tr>\n",
              "    <tr>\n",
              "      <th>min</th>\n",
              "      <td>1.000000</td>\n",
              "      <td>1.000000</td>\n",
              "      <td>1.000000</td>\n",
              "      <td>42602.0</td>\n",
              "      <td>1.000000</td>\n",
              "      <td>18.198712</td>\n",
              "      <td>-159.366240</td>\n",
              "      <td>1.000000</td>\n",
              "      <td>4.000000</td>\n",
              "      <td>-4.495833</td>\n",
              "      <td>-3.400000</td>\n",
              "      <td>0.000000</td>\n",
              "      <td>0.000000</td>\n",
              "      <td>35.000000</td>\n",
              "    </tr>\n",
              "    <tr>\n",
              "      <th>25%</th>\n",
              "      <td>6.000000</td>\n",
              "      <td>25.000000</td>\n",
              "      <td>10.000000</td>\n",
              "      <td>42602.0</td>\n",
              "      <td>1.000000</td>\n",
              "      <td>33.859662</td>\n",
              "      <td>-115.483070</td>\n",
              "      <td>23.000000</td>\n",
              "      <td>96.000000</td>\n",
              "      <td>2.559091</td>\n",
              "      <td>6.000000</td>\n",
              "      <td>5.000000</td>\n",
              "      <td>6.000000</td>\n",
              "      <td>74.000000</td>\n",
              "    </tr>\n",
              "    <tr>\n",
              "      <th>50%</th>\n",
              "      <td>29.000000</td>\n",
              "      <td>49.000000</td>\n",
              "      <td>45.000000</td>\n",
              "      <td>42602.0</td>\n",
              "      <td>1.000000</td>\n",
              "      <td>37.814781</td>\n",
              "      <td>-97.366399</td>\n",
              "      <td>24.000000</td>\n",
              "      <td>100.000000</td>\n",
              "      <td>5.495652</td>\n",
              "      <td>13.200000</td>\n",
              "      <td>8.000000</td>\n",
              "      <td>12.000000</td>\n",
              "      <td>99.000000</td>\n",
              "    </tr>\n",
              "    <tr>\n",
              "      <th>75%</th>\n",
              "      <td>48.000000</td>\n",
              "      <td>99.000000</td>\n",
              "      <td>1016.000000</td>\n",
              "      <td>42602.0</td>\n",
              "      <td>1.000000</td>\n",
              "      <td>40.787628</td>\n",
              "      <td>-83.129431</td>\n",
              "      <td>24.000000</td>\n",
              "      <td>100.000000</td>\n",
              "      <td>10.533333</td>\n",
              "      <td>23.400000</td>\n",
              "      <td>19.000000</td>\n",
              "      <td>22.000000</td>\n",
              "      <td>99.000000</td>\n",
              "    </tr>\n",
              "    <tr>\n",
              "      <th>max</th>\n",
              "      <td>72.000000</td>\n",
              "      <td>760.000000</td>\n",
              "      <td>9997.000000</td>\n",
              "      <td>42602.0</td>\n",
              "      <td>6.000000</td>\n",
              "      <td>48.641930</td>\n",
              "      <td>-66.052237</td>\n",
              "      <td>24.000000</td>\n",
              "      <td>100.000000</td>\n",
              "      <td>60.426087</td>\n",
              "      <td>101.600000</td>\n",
              "      <td>23.000000</td>\n",
              "      <td>101.000000</td>\n",
              "      <td>599.000000</td>\n",
              "    </tr>\n",
              "  </tbody>\n",
              "</table>\n",
              "</div>"
            ],
            "text/plain": [
              "          State_Code    County_Code  ...            AQI    Method_Code\n",
              "count  157726.000000  157726.000000  ...  157726.000000  157726.000000\n",
              "mean       28.224034      81.052230  ...      14.748824     151.313018\n",
              "std        17.954731     102.965524  ...      11.434889     144.907793\n",
              "min         1.000000       1.000000  ...       0.000000      35.000000\n",
              "25%         6.000000      25.000000  ...       6.000000      74.000000\n",
              "50%        29.000000      49.000000  ...      12.000000      99.000000\n",
              "75%        48.000000      99.000000  ...      22.000000      99.000000\n",
              "max        72.000000     760.000000  ...     101.000000     599.000000\n",
              "\n",
              "[8 rows x 14 columns]"
            ]
          },
          "metadata": {
            "tags": []
          },
          "execution_count": 215
        }
      ]
    },
    {
      "cell_type": "code",
      "metadata": {
        "id": "O6v3yfHQJnog",
        "colab": {
          "base_uri": "https://localhost:8080/",
          "height": 366
        },
        "outputId": "94056ac3-99ab-425a-f8de-11f8d100fb06"
      },
      "source": [
        "df_no2.drop('Parameter_Code',axis=1,inplace=True)\n",
        "df_no2.drop('POC',axis=1,inplace=True)\n",
        "df_no2.drop('Parameter_Name',axis=1,inplace=True)\n",
        "df_no2.drop('Sample_Duration',axis=1,inplace=True)\n",
        "df_no2.drop('Pollutant_Standard',axis=1,inplace=True)\n",
        "df_no2.drop('Method_Code',axis=1,inplace=True)\n",
        "df_no2.drop('Method_Name',axis=1,inplace=True)\n",
        "\n",
        "df_no2.head(3)"
      ],
      "execution_count": null,
      "outputs": [
        {
          "output_type": "execute_result",
          "data": {
            "text/html": [
              "<div>\n",
              "<style scoped>\n",
              "    .dataframe tbody tr th:only-of-type {\n",
              "        vertical-align: middle;\n",
              "    }\n",
              "\n",
              "    .dataframe tbody tr th {\n",
              "        vertical-align: top;\n",
              "    }\n",
              "\n",
              "    .dataframe thead th {\n",
              "        text-align: right;\n",
              "    }\n",
              "</style>\n",
              "<table border=\"1\" class=\"dataframe\">\n",
              "  <thead>\n",
              "    <tr style=\"text-align: right;\">\n",
              "      <th></th>\n",
              "      <th>State_Code</th>\n",
              "      <th>County_Code</th>\n",
              "      <th>Site_Num</th>\n",
              "      <th>Latitude</th>\n",
              "      <th>Longitude</th>\n",
              "      <th>Datum</th>\n",
              "      <th>Date_Local</th>\n",
              "      <th>Units_of_Measure</th>\n",
              "      <th>Event_Type</th>\n",
              "      <th>Observation_Count</th>\n",
              "      <th>Observation_Percent</th>\n",
              "      <th>Arithmetic_Mean</th>\n",
              "      <th>firstMaxValue</th>\n",
              "      <th>firstMaxHour</th>\n",
              "      <th>AQI</th>\n",
              "      <th>Local_Site_Name</th>\n",
              "      <th>Address</th>\n",
              "      <th>State_Name</th>\n",
              "      <th>County_Name</th>\n",
              "      <th>City_Name</th>\n",
              "      <th>CBSA_Name</th>\n",
              "      <th>Date_of_Last_Change</th>\n",
              "    </tr>\n",
              "  </thead>\n",
              "  <tbody>\n",
              "    <tr>\n",
              "      <th>0</th>\n",
              "      <td>1</td>\n",
              "      <td>73</td>\n",
              "      <td>23</td>\n",
              "      <td>33.553056</td>\n",
              "      <td>-86.815</td>\n",
              "      <td>WGS84</td>\n",
              "      <td>1/1/20</td>\n",
              "      <td>Parts per billion</td>\n",
              "      <td>None</td>\n",
              "      <td>21</td>\n",
              "      <td>88</td>\n",
              "      <td>15.752381</td>\n",
              "      <td>28.2</td>\n",
              "      <td>6</td>\n",
              "      <td>26</td>\n",
              "      <td>North Birmingham</td>\n",
              "      <td>NO. B'HAM,SOU R.R., 3009 28TH ST. NO.</td>\n",
              "      <td>Alabama</td>\n",
              "      <td>Jefferson</td>\n",
              "      <td>Birmingham</td>\n",
              "      <td>Birmingham-Hoover, AL</td>\n",
              "      <td>2/25/21</td>\n",
              "    </tr>\n",
              "    <tr>\n",
              "      <th>1</th>\n",
              "      <td>1</td>\n",
              "      <td>73</td>\n",
              "      <td>23</td>\n",
              "      <td>33.553056</td>\n",
              "      <td>-86.815</td>\n",
              "      <td>WGS84</td>\n",
              "      <td>1/2/20</td>\n",
              "      <td>Parts per billion</td>\n",
              "      <td>None</td>\n",
              "      <td>24</td>\n",
              "      <td>100</td>\n",
              "      <td>9.595833</td>\n",
              "      <td>16.3</td>\n",
              "      <td>10</td>\n",
              "      <td>15</td>\n",
              "      <td>North Birmingham</td>\n",
              "      <td>NO. B'HAM,SOU R.R., 3009 28TH ST. NO.</td>\n",
              "      <td>Alabama</td>\n",
              "      <td>Jefferson</td>\n",
              "      <td>Birmingham</td>\n",
              "      <td>Birmingham-Hoover, AL</td>\n",
              "      <td>2/25/21</td>\n",
              "    </tr>\n",
              "    <tr>\n",
              "      <th>2</th>\n",
              "      <td>1</td>\n",
              "      <td>73</td>\n",
              "      <td>23</td>\n",
              "      <td>33.553056</td>\n",
              "      <td>-86.815</td>\n",
              "      <td>WGS84</td>\n",
              "      <td>1/3/20</td>\n",
              "      <td>Parts per billion</td>\n",
              "      <td>None</td>\n",
              "      <td>24</td>\n",
              "      <td>100</td>\n",
              "      <td>17.300000</td>\n",
              "      <td>31.6</td>\n",
              "      <td>10</td>\n",
              "      <td>29</td>\n",
              "      <td>North Birmingham</td>\n",
              "      <td>NO. B'HAM,SOU R.R., 3009 28TH ST. NO.</td>\n",
              "      <td>Alabama</td>\n",
              "      <td>Jefferson</td>\n",
              "      <td>Birmingham</td>\n",
              "      <td>Birmingham-Hoover, AL</td>\n",
              "      <td>2/25/21</td>\n",
              "    </tr>\n",
              "  </tbody>\n",
              "</table>\n",
              "</div>"
            ],
            "text/plain": [
              "   State_Code  County_Code  ...              CBSA_Name  Date_of_Last_Change\n",
              "0           1           73  ...  Birmingham-Hoover, AL              2/25/21\n",
              "1           1           73  ...  Birmingham-Hoover, AL              2/25/21\n",
              "2           1           73  ...  Birmingham-Hoover, AL              2/25/21\n",
              "\n",
              "[3 rows x 22 columns]"
            ]
          },
          "metadata": {
            "tags": []
          },
          "execution_count": 216
        }
      ]
    },
    {
      "cell_type": "code",
      "metadata": {
        "id": "d8xPha1Ze1hB",
        "colab": {
          "base_uri": "https://localhost:8080/",
          "height": 330
        },
        "outputId": "83f1c24c-571f-4076-c10c-13a4f98560f5"
      },
      "source": [
        "df_no2[['AQI','State_Name']].groupby([\"State_Name\"]).median().sort_values(by='AQI',ascending=False).head(10).plot.bar(color='r')\n",
        "plt.show()"
      ],
      "execution_count": null,
      "outputs": [
        {
          "output_type": "display_data",
          "data": {
            "image/png": "[encoded data removed]",
            "text/plain": [
              "<Figure size 432x288 with 1 Axes>"
            ]
          },
          "metadata": {
            "tags": [],
            "needs_background": "light"
          }
        }
      ]
    },
    {
      "cell_type": "code",
      "metadata": {
        "id": "UnLk1G8eflEa",
        "colab": {
          "base_uri": "https://localhost:8080/",
          "height": 349
        },
        "outputId": "4a6e071a-8315-4db2-9d94-9c9c876a679d"
      },
      "source": [
        "df_no2[['AQI','State_Name']].groupby([\"State_Name\"]).median().sort_values(by='AQI',ascending=True).head(10).plot.bar(color='b')\n",
        "plt.show()"
      ],
      "execution_count": null,
      "outputs": [
        {
          "output_type": "display_data",
          "data": {
            "image/png": "[encoded data removed]",
            "text/plain": [
              "<Figure size 432x288 with 1 Axes>"
            ]
          },
          "metadata": {
            "tags": [],
            "needs_background": "light"
          }
        }
      ]
    },
    {
      "cell_type": "markdown",
      "metadata": {
        "id": "wYtqH0wNTZK0"
      },
      "source": [
        "Nevada has a high AQI with no outliers. Very consistent.  "
      ]
    },
    {
      "cell_type": "markdown",
      "metadata": {
        "id": "P0kvcit4cgfz"
      },
      "source": [
        "# Phase 02"
      ]
    },
    {
      "cell_type": "code",
      "metadata": {
        "id": "LITKTVv_ch0a"
      },
      "source": [
        "import plotly.express as px\n",
        "import plotly.graph_objects as go\n"
      ],
      "execution_count": null,
      "outputs": []
    },
    {
      "cell_type": "markdown",
      "metadata": {
        "id": "ttej8hBqmjM0"
      },
      "source": [
        "# EDA (MAP)"
      ]
    },
    {
      "cell_type": "markdown",
      "metadata": {
        "id": "Hq50vwaIj2_9"
      },
      "source": [
        "## Ozone"
      ]
    },
    {
      "cell_type": "code",
      "metadata": {
        "colab": {
          "base_uri": "https://localhost:8080/"
        },
        "id": "-EpoKUpX1viE",
        "outputId": "053db3d9-38f6-4e8b-a8e2-afae28343da1"
      },
      "source": [
        "long2short = { 'Alabama': 'AL', 'Alaska':'AK','Arizona':'AZ', 'Arkansas':'AR', 'California':'CA', 'Colorado':'CO', 'Connecticut':'CT', 'Delaware':'DE','Florida':'FL','Georgia':'GA','Hawaii':'HI','Idaho':'ID','Illinois':'IL','Indiana':'IN','Iowa':'IA','Kansas':'KS','Kentucky':'KY','Louisiana':'LA','Maine':'ME','Maryland':'MD','Massachusetts':'MA','Michigan':'MI','Minnesota':'MN','Mississippi':'MS','Missouri':'MO','Montana':'MT','Nebraska':'NE','Nevada':'NV','New Hampshire':'NH','New Jersey':'NJ','New Mexico':'NM','New York':'NY','North Carolina':'NC','North Dakota':'ND','Ohio':'OH','Oklahoma':'OK','Oregon':'OR','Pennsylvania':'PA','Rhode Island':'RI','South Carolina':'SC','South Dakota':'SD','Tennessee':'TN','Texas':'TX','Utah':'UT','Vermont':'VT','Virginia':'VA','Washington':'WA','West Virginia':'WV','Wisconsin':'WI','Wyoming':'WY'\n",
        "}\n",
        "df_ozone['short_name'] = df_ozone['State_Name'].apply(lambda name: long2short[name] if name in long2short else None)\n",
        "print(df_ozone['short_name'])"
      ],
      "execution_count": null,
      "outputs": [
        {
          "output_type": "stream",
          "text": [
            "0           AL\n",
            "1           AL\n",
            "2           AL\n",
            "3           AL\n",
            "4           AL\n",
            "          ... \n",
            "391918    None\n",
            "391919    None\n",
            "391920    None\n",
            "391921    None\n",
            "391922    None\n",
            "Name: short_name, Length: 391923, dtype: object\n"
          ],
          "name": "stdout"
        }
      ]
    },
    {
      "cell_type": "code",
      "metadata": {
        "id": "TkLEjDNqeq-t"
      },
      "source": [
        "##fig = go.Figure(data=go.Choropleth(\n",
        "#    locations=df_ozone['short_name'], \n",
        "#    z = df_ozone['AQI'].astype(float), \n",
        "#    locationmode = 'USA-states', \n",
        "#    colorscale = 'Reds',\n",
        "#    colorbar_title = \" Ozone AQI\",))\n",
        "\n",
        "#fig.update_layout(\n",
        "#    title_text = 'AQI for Ozone in the USA',\n",
        "#    geo_scope='usa', \n",
        "#)\n",
        "#fig.show()"
      ],
      "execution_count": null,
      "outputs": []
    },
    {
      "cell_type": "markdown",
      "metadata": {
        "id": "zU8CLYNlkLap"
      },
      "source": [
        "## Sulfur Dioxide"
      ]
    },
    {
      "cell_type": "code",
      "metadata": {
        "id": "vNbrh4ObndyK",
        "colab": {
          "base_uri": "https://localhost:8080/"
        },
        "outputId": "2fd4a9be-9eef-4df2-ab5b-b994576689e5"
      },
      "source": [
        "df_so2_['short_name'] = df_so2_['State_Name'].apply(lambda name: long2short[name] if name in long2short else None)\n",
        "print(df_so2_['short_name'])"
      ],
      "execution_count": null,
      "outputs": [
        {
          "output_type": "stream",
          "text": [
            "0           AL\n",
            "1           AL\n",
            "2           AL\n",
            "3           AL\n",
            "4           AL\n",
            "          ... \n",
            "324530    None\n",
            "324531    None\n",
            "324532    None\n",
            "324533    None\n",
            "324534    None\n",
            "Name: short_name, Length: 137685, dtype: object\n"
          ],
          "name": "stdout"
        },
        {
          "output_type": "stream",
          "text": [
            "/usr/local/lib/python3.7/dist-packages/ipykernel_launcher.py:1: SettingWithCopyWarning:\n",
            "\n",
            "\n",
            "A value is trying to be set on a copy of a slice from a DataFrame.\n",
            "Try using .loc[row_indexer,col_indexer] = value instead\n",
            "\n",
            "See the caveats in the documentation: https://pandas.pydata.org/pandas-docs/stable/user_guide/indexing.html#returning-a-view-versus-a-copy\n",
            "\n"
          ],
          "name": "stderr"
        }
      ]
    },
    {
      "cell_type": "code",
      "metadata": {
        "id": "cG4N98JNnd4V"
      },
      "source": [
        "#fig = go.Figure(data=go.Choropleth(\n",
        "#    locations=df_so2_['short_name'], \n",
        "#    z = df_so2_['AQI'].astype(float), \n",
        "#    locationmode = 'USA-states', \n",
        "#    colorscale = 'Reds',\n",
        "#    colorbar_title = \" Sulfur Dioxide AQI\",))\n",
        "\n",
        "#fig.update_layout(\n",
        "#    title_text = 'AQI for Sulfur Dioxide in the USA',\n",
        "#    geo_scope='usa', \n",
        "#)\n"
      ],
      "execution_count": null,
      "outputs": []
    },
    {
      "cell_type": "markdown",
      "metadata": {
        "id": "MX8falnazG_G"
      },
      "source": [
        "## Carbon Monoxide"
      ]
    },
    {
      "cell_type": "code",
      "metadata": {
        "colab": {
          "base_uri": "https://localhost:8080/"
        },
        "id": "s6f1NWQYzNbg",
        "outputId": "c663de22-e3c8-4312-939b-e3ae63a71731"
      },
      "source": [
        "df_co['short_name'] = df_co['State_Name'].apply(lambda name: long2short[name] if name in long2short else None)\n",
        "print(df_co['short_name'])"
      ],
      "execution_count": null,
      "outputs": [
        {
          "output_type": "stream",
          "text": [
            "354         AL\n",
            "355         AL\n",
            "356         AL\n",
            "357         AL\n",
            "358         AL\n",
            "          ... \n",
            "178784    None\n",
            "178785    None\n",
            "178786    None\n",
            "178787    None\n",
            "178788    None\n",
            "Name: short_name, Length: 84640, dtype: object\n"
          ],
          "name": "stdout"
        }
      ]
    },
    {
      "cell_type": "code",
      "metadata": {
        "id": "2GI3uvzEzPaU"
      },
      "source": [
        "#fig = go.Figure(data=go.Choropleth(\n",
        "#    locations=df_co_['short_name'],\n",
        "#    z = df_co_['AQI'].astype(float), \n",
        "#    locationmode = 'USA-states',\n",
        "#    colorscale = 'Reds',\n",
        "#    colorbar_title = \" Carbon Monoxide AQI\",))\n",
        "\n",
        "#fig.update_layout(\n",
        "#    title_text = 'AQI for Carbon Monoxide in the USA',\n",
        "#    geo_scope='usa', \n",
        "#)\n",
        "#fig.show()"
      ],
      "execution_count": null,
      "outputs": []
    },
    {
      "cell_type": "markdown",
      "metadata": {
        "id": "wFYcMiGXzVez"
      },
      "source": [
        "Nitrogen Dioxide "
      ]
    },
    {
      "cell_type": "code",
      "metadata": {
        "colab": {
          "base_uri": "https://localhost:8080/"
        },
        "id": "99Rym4RWzYeJ",
        "outputId": "357b8009-13b2-49ab-8182-e1e29b8eb05a"
      },
      "source": [
        "df_no2['short_name'] = df_no2['State_Name'].apply(lambda name: long2short[name] if name in long2short else None)\n",
        "print(df_no2['short_name'])"
      ],
      "execution_count": null,
      "outputs": [
        {
          "output_type": "stream",
          "text": [
            "0           AL\n",
            "1           AL\n",
            "2           AL\n",
            "3           AL\n",
            "4           AL\n",
            "          ... \n",
            "157721    None\n",
            "157722    None\n",
            "157723    None\n",
            "157724    None\n",
            "157725    None\n",
            "Name: short_name, Length: 157726, dtype: object\n"
          ],
          "name": "stdout"
        }
      ]
    },
    {
      "cell_type": "code",
      "metadata": {
        "id": "5vOQ9cs0zaAy"
      },
      "source": [
        "#fig = go.Figure(data=go.Choropleth(\n",
        "#    locations=df_no2['short_name'], \n",
        "#    z = df_no2['AQI'].astype(float), \n",
        "#    locationmode = 'USA-states', \n",
        "#    colorscale = 'Reds',\n",
        "#    colorbar_title = \" Nitrogen Dioxide AQI\",))#\n",
        "\n",
        "#fig.update_layout(\n",
        "#    title_text = 'AQI for Nitrogen Dioxide in the USA',\n",
        "#    geo_scope='usa', \n",
        "#)\n",
        "#fig.show()"
      ],
      "execution_count": null,
      "outputs": []
    },
    {
      "cell_type": "markdown",
      "metadata": {
        "id": "f_5Nf1-XmpBl"
      },
      "source": [
        "# Model Construction"
      ]
    },
    {
      "cell_type": "code",
      "metadata": {
        "id": "ItnJRJlkYS6i"
      },
      "source": [
        "import scipy.stats as stats\n",
        "import numpy as np\n",
        "import matplotlib.pyplot as plt\n",
        "import sklearn\n",
        "from sklearn.cluster import KMeans\n",
        "from sklearn.preprocessing import StandardScaler, normalize\n",
        "from sklearn.preprocessing import MinMaxScaler\n",
        "from sklearn.decomposition import PCA\n",
        "from mpl_toolkits.mplot3d import Axes3D\n",
        "from sklearn.preprocessing import scale\n",
        "from sklearn import datasets\n",
        "from sklearn.datasets import make_blobs\n",
        "from sklearn.datasets import make_moons\n",
        "import sklearn.metrics as sm\n",
        "from sklearn.metrics import confusion_matrix, classification_report\n"
      ],
      "execution_count": null,
      "outputs": []
    },
    {
      "cell_type": "markdown",
      "metadata": {
        "id": "pov_oUS88VWu"
      },
      "source": [
        "# Ozone"
      ]
    },
    {
      "cell_type": "markdown",
      "metadata": {
        "id": "d8osIb_o4HUc"
      },
      "source": [
        "## K-Means Clustering"
      ]
    },
    {
      "cell_type": "code",
      "metadata": {
        "colab": {
          "base_uri": "https://localhost:8080/",
          "height": 428
        },
        "id": "KaVKok5r23Ba",
        "outputId": "e2e198ce-9b1f-4327-e08a-fdb71b9284ce"
      },
      "source": [
        "my_df = df_ozone.copy()\n",
        "hi_aqi = my_df.AQI > 100\n",
        "my_df[hi_aqi]['Longitude']\n",
        "my_df[hi_aqi]['Latitude']\n",
        "#print(my_df[hi_aqi])\n",
        "my_df[hi_aqi].head()"
      ],
      "execution_count": null,
      "outputs": [
        {
          "output_type": "execute_result",
          "data": {
            "text/html": [
              "<div>\n",
              "<style scoped>\n",
              "    .dataframe tbody tr th:only-of-type {\n",
              "        vertical-align: middle;\n",
              "    }\n",
              "\n",
              "    .dataframe tbody tr th {\n",
              "        vertical-align: top;\n",
              "    }\n",
              "\n",
              "    .dataframe thead th {\n",
              "        text-align: right;\n",
              "    }\n",
              "</style>\n",
              "<table border=\"1\" class=\"dataframe\">\n",
              "  <thead>\n",
              "    <tr style=\"text-align: right;\">\n",
              "      <th></th>\n",
              "      <th>State_Code</th>\n",
              "      <th>County_Code</th>\n",
              "      <th>Latitude</th>\n",
              "      <th>Longitude</th>\n",
              "      <th>Datum</th>\n",
              "      <th>Data_Local</th>\n",
              "      <th>Units_of_Measure</th>\n",
              "      <th>Observation_Count</th>\n",
              "      <th>Observation_Percent</th>\n",
              "      <th>Arithmetic_Mean</th>\n",
              "      <th>firstMaxValue</th>\n",
              "      <th>firstMaxHour</th>\n",
              "      <th>AQI</th>\n",
              "      <th>Local_Site_Name</th>\n",
              "      <th>Address</th>\n",
              "      <th>State_Name</th>\n",
              "      <th>County_Name</th>\n",
              "      <th>City_Name</th>\n",
              "      <th>CBSA_Name</th>\n",
              "      <th>Date_of_Last_Change</th>\n",
              "      <th>short_name</th>\n",
              "    </tr>\n",
              "  </thead>\n",
              "  <tbody>\n",
              "    <tr>\n",
              "      <th>2439</th>\n",
              "      <td>1</td>\n",
              "      <td>73</td>\n",
              "      <td>33.578333</td>\n",
              "      <td>-86.773889</td>\n",
              "      <td>WGS84</td>\n",
              "      <td>6/19/20</td>\n",
              "      <td>Parts per million</td>\n",
              "      <td>17</td>\n",
              "      <td>100</td>\n",
              "      <td>0.049294</td>\n",
              "      <td>0.072</td>\n",
              "      <td>11</td>\n",
              "      <td>105</td>\n",
              "      <td>Tarrant Elementary School</td>\n",
              "      <td>TARRANT, ELEM. SCH., 1269 PORTLAND STREE</td>\n",
              "      <td>Alabama</td>\n",
              "      <td>Jefferson</td>\n",
              "      <td>Tarrant (corporate name for Tarrant City)</td>\n",
              "      <td>Birmingham-Hoover, AL</td>\n",
              "      <td>4/12/21</td>\n",
              "      <td>AL</td>\n",
              "    </tr>\n",
              "    <tr>\n",
              "      <th>5656</th>\n",
              "      <td>4</td>\n",
              "      <td>3</td>\n",
              "      <td>32.009410</td>\n",
              "      <td>-109.389060</td>\n",
              "      <td>WGS84</td>\n",
              "      <td>8/21/20</td>\n",
              "      <td>Parts per million</td>\n",
              "      <td>17</td>\n",
              "      <td>100</td>\n",
              "      <td>0.061294</td>\n",
              "      <td>0.072</td>\n",
              "      <td>11</td>\n",
              "      <td>105</td>\n",
              "      <td>Chiricahua NM - Entrance Station</td>\n",
              "      <td>CHIRICAHUA NATIONAL MOUMENT</td>\n",
              "      <td>Arizona</td>\n",
              "      <td>Cochise</td>\n",
              "      <td>Not in a city</td>\n",
              "      <td>Sierra Vista-Douglas, AZ</td>\n",
              "      <td>2/16/21</td>\n",
              "      <td>AZ</td>\n",
              "    </tr>\n",
              "    <tr>\n",
              "      <th>5658</th>\n",
              "      <td>4</td>\n",
              "      <td>3</td>\n",
              "      <td>32.009410</td>\n",
              "      <td>-109.389060</td>\n",
              "      <td>WGS84</td>\n",
              "      <td>8/23/20</td>\n",
              "      <td>Parts per million</td>\n",
              "      <td>17</td>\n",
              "      <td>100</td>\n",
              "      <td>0.065529</td>\n",
              "      <td>0.073</td>\n",
              "      <td>10</td>\n",
              "      <td>108</td>\n",
              "      <td>Chiricahua NM - Entrance Station</td>\n",
              "      <td>CHIRICAHUA NATIONAL MOUMENT</td>\n",
              "      <td>Arizona</td>\n",
              "      <td>Cochise</td>\n",
              "      <td>Not in a city</td>\n",
              "      <td>Sierra Vista-Douglas, AZ</td>\n",
              "      <td>2/16/21</td>\n",
              "      <td>AZ</td>\n",
              "    </tr>\n",
              "    <tr>\n",
              "      <th>6646</th>\n",
              "      <td>4</td>\n",
              "      <td>7</td>\n",
              "      <td>33.654700</td>\n",
              "      <td>-111.107400</td>\n",
              "      <td>WGS84</td>\n",
              "      <td>5/6/20</td>\n",
              "      <td>Parts per million</td>\n",
              "      <td>17</td>\n",
              "      <td>100</td>\n",
              "      <td>0.067235</td>\n",
              "      <td>0.077</td>\n",
              "      <td>15</td>\n",
              "      <td>122</td>\n",
              "      <td>TONTO NM</td>\n",
              "      <td>SOUTH OF SR88</td>\n",
              "      <td>Arizona</td>\n",
              "      <td>Gila</td>\n",
              "      <td>Tonto National Monument</td>\n",
              "      <td>Payson, AZ</td>\n",
              "      <td>1/21/21</td>\n",
              "      <td>AZ</td>\n",
              "    </tr>\n",
              "    <tr>\n",
              "      <th>6647</th>\n",
              "      <td>4</td>\n",
              "      <td>7</td>\n",
              "      <td>33.654700</td>\n",
              "      <td>-111.107400</td>\n",
              "      <td>WGS84</td>\n",
              "      <td>5/7/20</td>\n",
              "      <td>Parts per million</td>\n",
              "      <td>17</td>\n",
              "      <td>100</td>\n",
              "      <td>0.071529</td>\n",
              "      <td>0.081</td>\n",
              "      <td>14</td>\n",
              "      <td>136</td>\n",
              "      <td>TONTO NM</td>\n",
              "      <td>SOUTH OF SR88</td>\n",
              "      <td>Arizona</td>\n",
              "      <td>Gila</td>\n",
              "      <td>Tonto National Monument</td>\n",
              "      <td>Payson, AZ</td>\n",
              "      <td>1/21/21</td>\n",
              "      <td>AZ</td>\n",
              "    </tr>\n",
              "  </tbody>\n",
              "</table>\n",
              "</div>"
            ],
            "text/plain": [
              "      State_Code  County_Code  ...  Date_of_Last_Change  short_name\n",
              "2439           1           73  ...              4/12/21          AL\n",
              "5656           4            3  ...              2/16/21          AZ\n",
              "5658           4            3  ...              2/16/21          AZ\n",
              "6646           4            7  ...              1/21/21          AZ\n",
              "6647           4            7  ...              1/21/21          AZ\n",
              "\n",
              "[5 rows x 21 columns]"
            ]
          },
          "metadata": {
            "tags": []
          },
          "execution_count": 229
        }
      ]
    },
    {
      "cell_type": "markdown",
      "metadata": {
        "id": "y0Am71IpvknZ"
      },
      "source": [
        "Elbow Method"
      ]
    },
    {
      "cell_type": "code",
      "metadata": {
        "id": "S2pWXLRgusYU"
      },
      "source": [
        "k_rng=range(1,10)\n",
        "sse=[]\n",
        "for k in k_rng:\n",
        "  km = KMeans(n_clusters=k)\n",
        "  km.fit(my_df[hi_aqi][['Longitude','Latitude']])\n",
        "  sse.append(km.inertia_)"
      ],
      "execution_count": null,
      "outputs": []
    },
    {
      "cell_type": "code",
      "metadata": {
        "id": "u50W5EKBvWCa",
        "colab": {
          "base_uri": "https://localhost:8080/"
        },
        "outputId": "3c52a539-5d72-47e5-d7b0-5b863e723fd6"
      },
      "source": [
        "sse"
      ],
      "execution_count": null,
      "outputs": [
        {
          "output_type": "execute_result",
          "data": {
            "text/plain": [
              "[714825.8301397931,\n",
              " 142382.91711770016,\n",
              " 84035.1056437016,\n",
              " 59584.87394361223,\n",
              " 44375.215542242426,\n",
              " 30893.463318340233,\n",
              " 20635.506739434957,\n",
              " 17912.94704696013,\n",
              " 15513.712239904293]"
            ]
          },
          "metadata": {
            "tags": []
          },
          "execution_count": 231
        }
      ]
    },
    {
      "cell_type": "code",
      "metadata": {
        "id": "460_E3aLviFa",
        "colab": {
          "base_uri": "https://localhost:8080/",
          "height": 296
        },
        "outputId": "5ee22907-b883-44a6-8308-d78b326ce9d2"
      },
      "source": [
        "plt.xlabel('K')\n",
        "plt.ylabel('Sum of squared error')\n",
        "plt.plot(k_rng, sse)"
      ],
      "execution_count": null,
      "outputs": [
        {
          "output_type": "execute_result",
          "data": {
            "text/plain": [
              "[<matplotlib.lines.Line2D at 0x7fc1a60bdc90>]"
            ]
          },
          "metadata": {
            "tags": []
          },
          "execution_count": 232
        },
        {
          "output_type": "display_data",
          "data": {
            "image/png": "[encoded data removed]",
            "text/plain": [
              "<Figure size 432x288 with 1 Axes>"
            ]
          },
          "metadata": {
            "tags": [],
            "needs_background": "light"
          }
        }
      ]
    },
    {
      "cell_type": "code",
      "metadata": {
        "id": "gH6emiYUem5j",
        "colab": {
          "base_uri": "https://localhost:8080/"
        },
        "outputId": "9e6f5e10-47ba-4db9-dc00-8f51536dd5ca"
      },
      "source": [
        "km = KMeans(n_clusters = 3)\n",
        "km"
      ],
      "execution_count": null,
      "outputs": [
        {
          "output_type": "execute_result",
          "data": {
            "text/plain": [
              "KMeans(algorithm='auto', copy_x=True, init='k-means++', max_iter=300,\n",
              "       n_clusters=3, n_init=10, n_jobs=None, precompute_distances='auto',\n",
              "       random_state=None, tol=0.0001, verbose=0)"
            ]
          },
          "metadata": {
            "tags": []
          },
          "execution_count": 233
        }
      ]
    },
    {
      "cell_type": "code",
      "metadata": {
        "id": "uDqohqftf5cq",
        "colab": {
          "base_uri": "https://localhost:8080/"
        },
        "outputId": "e9582769-5612-427b-8dd4-4950a9ea5647"
      },
      "source": [
        "y_predicted = km.fit_predict(my_df[['Longitude','Latitude']])\n",
        "y_predicted"
      ],
      "execution_count": null,
      "outputs": [
        {
          "output_type": "execute_result",
          "data": {
            "text/plain": [
              "array([2, 2, 2, ..., 1, 1, 1], dtype=int32)"
            ]
          },
          "metadata": {
            "tags": []
          },
          "execution_count": 234
        }
      ]
    },
    {
      "cell_type": "code",
      "metadata": {
        "id": "4z6LxT2Yf3qV",
        "colab": {
          "base_uri": "https://localhost:8080/",
          "height": 428
        },
        "outputId": "d97a2898-c091-4367-a78f-50efd5be3143"
      },
      "source": [
        "my_df['cluster']=y_predicted\n",
        "my_df[hi_aqi].head()"
      ],
      "execution_count": null,
      "outputs": [
        {
          "output_type": "execute_result",
          "data": {
            "text/html": [
              "<div>\n",
              "<style scoped>\n",
              "    .dataframe tbody tr th:only-of-type {\n",
              "        vertical-align: middle;\n",
              "    }\n",
              "\n",
              "    .dataframe tbody tr th {\n",
              "        vertical-align: top;\n",
              "    }\n",
              "\n",
              "    .dataframe thead th {\n",
              "        text-align: right;\n",
              "    }\n",
              "</style>\n",
              "<table border=\"1\" class=\"dataframe\">\n",
              "  <thead>\n",
              "    <tr style=\"text-align: right;\">\n",
              "      <th></th>\n",
              "      <th>State_Code</th>\n",
              "      <th>County_Code</th>\n",
              "      <th>Latitude</th>\n",
              "      <th>Longitude</th>\n",
              "      <th>Datum</th>\n",
              "      <th>Data_Local</th>\n",
              "      <th>Units_of_Measure</th>\n",
              "      <th>Observation_Count</th>\n",
              "      <th>Observation_Percent</th>\n",
              "      <th>Arithmetic_Mean</th>\n",
              "      <th>firstMaxValue</th>\n",
              "      <th>firstMaxHour</th>\n",
              "      <th>AQI</th>\n",
              "      <th>Local_Site_Name</th>\n",
              "      <th>Address</th>\n",
              "      <th>State_Name</th>\n",
              "      <th>County_Name</th>\n",
              "      <th>City_Name</th>\n",
              "      <th>CBSA_Name</th>\n",
              "      <th>Date_of_Last_Change</th>\n",
              "      <th>short_name</th>\n",
              "      <th>cluster</th>\n",
              "    </tr>\n",
              "  </thead>\n",
              "  <tbody>\n",
              "    <tr>\n",
              "      <th>2439</th>\n",
              "      <td>1</td>\n",
              "      <td>73</td>\n",
              "      <td>33.578333</td>\n",
              "      <td>-86.773889</td>\n",
              "      <td>WGS84</td>\n",
              "      <td>6/19/20</td>\n",
              "      <td>Parts per million</td>\n",
              "      <td>17</td>\n",
              "      <td>100</td>\n",
              "      <td>0.049294</td>\n",
              "      <td>0.072</td>\n",
              "      <td>11</td>\n",
              "      <td>105</td>\n",
              "      <td>Tarrant Elementary School</td>\n",
              "      <td>TARRANT, ELEM. SCH., 1269 PORTLAND STREE</td>\n",
              "      <td>Alabama</td>\n",
              "      <td>Jefferson</td>\n",
              "      <td>Tarrant (corporate name for Tarrant City)</td>\n",
              "      <td>Birmingham-Hoover, AL</td>\n",
              "      <td>4/12/21</td>\n",
              "      <td>AL</td>\n",
              "      <td>2</td>\n",
              "    </tr>\n",
              "    <tr>\n",
              "      <th>5656</th>\n",
              "      <td>4</td>\n",
              "      <td>3</td>\n",
              "      <td>32.009410</td>\n",
              "      <td>-109.389060</td>\n",
              "      <td>WGS84</td>\n",
              "      <td>8/21/20</td>\n",
              "      <td>Parts per million</td>\n",
              "      <td>17</td>\n",
              "      <td>100</td>\n",
              "      <td>0.061294</td>\n",
              "      <td>0.072</td>\n",
              "      <td>11</td>\n",
              "      <td>105</td>\n",
              "      <td>Chiricahua NM - Entrance Station</td>\n",
              "      <td>CHIRICAHUA NATIONAL MOUMENT</td>\n",
              "      <td>Arizona</td>\n",
              "      <td>Cochise</td>\n",
              "      <td>Not in a city</td>\n",
              "      <td>Sierra Vista-Douglas, AZ</td>\n",
              "      <td>2/16/21</td>\n",
              "      <td>AZ</td>\n",
              "      <td>1</td>\n",
              "    </tr>\n",
              "    <tr>\n",
              "      <th>5658</th>\n",
              "      <td>4</td>\n",
              "      <td>3</td>\n",
              "      <td>32.009410</td>\n",
              "      <td>-109.389060</td>\n",
              "      <td>WGS84</td>\n",
              "      <td>8/23/20</td>\n",
              "      <td>Parts per million</td>\n",
              "      <td>17</td>\n",
              "      <td>100</td>\n",
              "      <td>0.065529</td>\n",
              "      <td>0.073</td>\n",
              "      <td>10</td>\n",
              "      <td>108</td>\n",
              "      <td>Chiricahua NM - Entrance Station</td>\n",
              "      <td>CHIRICAHUA NATIONAL MOUMENT</td>\n",
              "      <td>Arizona</td>\n",
              "      <td>Cochise</td>\n",
              "      <td>Not in a city</td>\n",
              "      <td>Sierra Vista-Douglas, AZ</td>\n",
              "      <td>2/16/21</td>\n",
              "      <td>AZ</td>\n",
              "      <td>1</td>\n",
              "    </tr>\n",
              "    <tr>\n",
              "      <th>6646</th>\n",
              "      <td>4</td>\n",
              "      <td>7</td>\n",
              "      <td>33.654700</td>\n",
              "      <td>-111.107400</td>\n",
              "      <td>WGS84</td>\n",
              "      <td>5/6/20</td>\n",
              "      <td>Parts per million</td>\n",
              "      <td>17</td>\n",
              "      <td>100</td>\n",
              "      <td>0.067235</td>\n",
              "      <td>0.077</td>\n",
              "      <td>15</td>\n",
              "      <td>122</td>\n",
              "      <td>TONTO NM</td>\n",
              "      <td>SOUTH OF SR88</td>\n",
              "      <td>Arizona</td>\n",
              "      <td>Gila</td>\n",
              "      <td>Tonto National Monument</td>\n",
              "      <td>Payson, AZ</td>\n",
              "      <td>1/21/21</td>\n",
              "      <td>AZ</td>\n",
              "      <td>1</td>\n",
              "    </tr>\n",
              "    <tr>\n",
              "      <th>6647</th>\n",
              "      <td>4</td>\n",
              "      <td>7</td>\n",
              "      <td>33.654700</td>\n",
              "      <td>-111.107400</td>\n",
              "      <td>WGS84</td>\n",
              "      <td>5/7/20</td>\n",
              "      <td>Parts per million</td>\n",
              "      <td>17</td>\n",
              "      <td>100</td>\n",
              "      <td>0.071529</td>\n",
              "      <td>0.081</td>\n",
              "      <td>14</td>\n",
              "      <td>136</td>\n",
              "      <td>TONTO NM</td>\n",
              "      <td>SOUTH OF SR88</td>\n",
              "      <td>Arizona</td>\n",
              "      <td>Gila</td>\n",
              "      <td>Tonto National Monument</td>\n",
              "      <td>Payson, AZ</td>\n",
              "      <td>1/21/21</td>\n",
              "      <td>AZ</td>\n",
              "      <td>1</td>\n",
              "    </tr>\n",
              "  </tbody>\n",
              "</table>\n",
              "</div>"
            ],
            "text/plain": [
              "      State_Code  County_Code  ...  short_name  cluster\n",
              "2439           1           73  ...          AL        2\n",
              "5656           4            3  ...          AZ        1\n",
              "5658           4            3  ...          AZ        1\n",
              "6646           4            7  ...          AZ        1\n",
              "6647           4            7  ...          AZ        1\n",
              "\n",
              "[5 rows x 22 columns]"
            ]
          },
          "metadata": {
            "tags": []
          },
          "execution_count": 235
        }
      ]
    },
    {
      "cell_type": "code",
      "metadata": {
        "id": "LpViOEE8Vj3k",
        "colab": {
          "base_uri": "https://localhost:8080/",
          "height": 313
        },
        "outputId": "e982c325-eea6-4c94-c068-a91e593dcaba"
      },
      "source": [
        "my_df1 = my_df[hi_aqi][my_df[hi_aqi].cluster ==0]\n",
        "my_df2 = my_df[hi_aqi][my_df[hi_aqi].cluster ==1]\n",
        "my_df3 = my_df[hi_aqi][my_df[hi_aqi].cluster ==2]\n",
        "\n",
        "plt.scatter(my_df1.Longitude,my_df1['Latitude'],color ='green' )\n",
        "plt.scatter(my_df2.Longitude,my_df2['Latitude'],color = 'red')\n",
        "plt.scatter(my_df3.Longitude,my_df3['Latitude'],color='black')\n",
        "\n",
        "\n",
        "plt.xlabel('Longitude')\n",
        "plt.ylabel('Latitude')\n",
        "plt.legend()"
      ],
      "execution_count": null,
      "outputs": [
        {
          "output_type": "stream",
          "text": [
            "No handles with labels found to put in legend.\n"
          ],
          "name": "stderr"
        },
        {
          "output_type": "execute_result",
          "data": {
            "text/plain": [
              "<matplotlib.legend.Legend at 0x7fc1a5fc96d0>"
            ]
          },
          "metadata": {
            "tags": []
          },
          "execution_count": 236
        },
        {
          "output_type": "display_data",
          "data": {
            "image/png": "[encoded data removed]",
            "text/plain": [
              "<Figure size 432x288 with 1 Axes>"
            ]
          },
          "metadata": {
            "tags": [],
            "needs_background": "light"
          }
        }
      ]
    },
    {
      "cell_type": "markdown",
      "metadata": {
        "id": "XWBwNk8y8gNo"
      },
      "source": [
        "# 2. Sulfur Dioxide"
      ]
    },
    {
      "cell_type": "code",
      "metadata": {
        "colab": {
          "base_uri": "https://localhost:8080/",
          "height": 309
        },
        "id": "dlUJVU3iKEN9",
        "outputId": "8b40ae64-b69f-46f2-b1f3-666708b2112e"
      },
      "source": [
        "my_so2 = df_so2.copy()\n",
        "hi_aqi = my_so2.AQI > 80\n",
        "my_so2[hi_aqi]['Longitude']\n",
        "my_so2[hi_aqi]['Latitude']\n",
        "#print(my_df[hi_aqi])\n",
        "my_so2[hi_aqi].head()"
      ],
      "execution_count": null,
      "outputs": [
        {
          "output_type": "execute_result",
          "data": {
            "text/html": [
              "<div>\n",
              "<style scoped>\n",
              "    .dataframe tbody tr th:only-of-type {\n",
              "        vertical-align: middle;\n",
              "    }\n",
              "\n",
              "    .dataframe tbody tr th {\n",
              "        vertical-align: top;\n",
              "    }\n",
              "\n",
              "    .dataframe thead th {\n",
              "        text-align: right;\n",
              "    }\n",
              "</style>\n",
              "<table border=\"1\" class=\"dataframe\">\n",
              "  <thead>\n",
              "    <tr style=\"text-align: right;\">\n",
              "      <th></th>\n",
              "      <th>State_Code</th>\n",
              "      <th>County_Code</th>\n",
              "      <th>Latitude</th>\n",
              "      <th>Longitude</th>\n",
              "      <th>Datum</th>\n",
              "      <th>Date_Local</th>\n",
              "      <th>Units_of_Measure</th>\n",
              "      <th>Observation_Count</th>\n",
              "      <th>Observation_Percent</th>\n",
              "      <th>Arithmetic_Mean</th>\n",
              "      <th>firstMaxValue</th>\n",
              "      <th>firstMaxHour</th>\n",
              "      <th>AQI</th>\n",
              "      <th>Local_Site_Name</th>\n",
              "      <th>Address</th>\n",
              "      <th>State_Name</th>\n",
              "      <th>County_Name</th>\n",
              "      <th>City_Name</th>\n",
              "      <th>CBSA_Name</th>\n",
              "      <th>Date_of_Last_Change</th>\n",
              "    </tr>\n",
              "  </thead>\n",
              "  <tbody>\n",
              "    <tr>\n",
              "      <th>4320</th>\n",
              "      <td>4</td>\n",
              "      <td>7</td>\n",
              "      <td>33.3855</td>\n",
              "      <td>-110.867267</td>\n",
              "      <td>WGS84</td>\n",
              "      <td>1/3/20</td>\n",
              "      <td>Parts per billion</td>\n",
              "      <td>24</td>\n",
              "      <td>100</td>\n",
              "      <td>11.550000</td>\n",
              "      <td>67.3</td>\n",
              "      <td>8</td>\n",
              "      <td>90.0</td>\n",
              "      <td>Miami Jones Ranch</td>\n",
              "      <td>Cherry Flats Rd.</td>\n",
              "      <td>Arizona</td>\n",
              "      <td>Gila</td>\n",
              "      <td>Not in a city</td>\n",
              "      <td>Payson, AZ</td>\n",
              "      <td>1/21/21</td>\n",
              "    </tr>\n",
              "    <tr>\n",
              "      <th>4340</th>\n",
              "      <td>4</td>\n",
              "      <td>7</td>\n",
              "      <td>33.3855</td>\n",
              "      <td>-110.867267</td>\n",
              "      <td>WGS84</td>\n",
              "      <td>1/23/20</td>\n",
              "      <td>Parts per billion</td>\n",
              "      <td>24</td>\n",
              "      <td>100</td>\n",
              "      <td>10.800000</td>\n",
              "      <td>69.7</td>\n",
              "      <td>8</td>\n",
              "      <td>92.0</td>\n",
              "      <td>Miami Jones Ranch</td>\n",
              "      <td>Cherry Flats Rd.</td>\n",
              "      <td>Arizona</td>\n",
              "      <td>Gila</td>\n",
              "      <td>Not in a city</td>\n",
              "      <td>Payson, AZ</td>\n",
              "      <td>1/21/21</td>\n",
              "    </tr>\n",
              "    <tr>\n",
              "      <th>4342</th>\n",
              "      <td>4</td>\n",
              "      <td>7</td>\n",
              "      <td>33.3855</td>\n",
              "      <td>-110.867267</td>\n",
              "      <td>WGS84</td>\n",
              "      <td>1/25/20</td>\n",
              "      <td>Parts per billion</td>\n",
              "      <td>24</td>\n",
              "      <td>100</td>\n",
              "      <td>10.762500</td>\n",
              "      <td>69.6</td>\n",
              "      <td>3</td>\n",
              "      <td>92.0</td>\n",
              "      <td>Miami Jones Ranch</td>\n",
              "      <td>Cherry Flats Rd.</td>\n",
              "      <td>Arizona</td>\n",
              "      <td>Gila</td>\n",
              "      <td>Not in a city</td>\n",
              "      <td>Payson, AZ</td>\n",
              "      <td>1/21/21</td>\n",
              "    </tr>\n",
              "    <tr>\n",
              "      <th>4393</th>\n",
              "      <td>4</td>\n",
              "      <td>7</td>\n",
              "      <td>33.3855</td>\n",
              "      <td>-110.867267</td>\n",
              "      <td>WGS84</td>\n",
              "      <td>3/16/20</td>\n",
              "      <td>Parts per billion</td>\n",
              "      <td>24</td>\n",
              "      <td>100</td>\n",
              "      <td>11.933333</td>\n",
              "      <td>97.4</td>\n",
              "      <td>6</td>\n",
              "      <td>110.0</td>\n",
              "      <td>Miami Jones Ranch</td>\n",
              "      <td>Cherry Flats Rd.</td>\n",
              "      <td>Arizona</td>\n",
              "      <td>Gila</td>\n",
              "      <td>Not in a city</td>\n",
              "      <td>Payson, AZ</td>\n",
              "      <td>1/21/21</td>\n",
              "    </tr>\n",
              "    <tr>\n",
              "      <th>4408</th>\n",
              "      <td>4</td>\n",
              "      <td>7</td>\n",
              "      <td>33.3855</td>\n",
              "      <td>-110.867267</td>\n",
              "      <td>WGS84</td>\n",
              "      <td>3/31/20</td>\n",
              "      <td>Parts per billion</td>\n",
              "      <td>24</td>\n",
              "      <td>100</td>\n",
              "      <td>12.612500</td>\n",
              "      <td>63.6</td>\n",
              "      <td>2</td>\n",
              "      <td>85.0</td>\n",
              "      <td>Miami Jones Ranch</td>\n",
              "      <td>Cherry Flats Rd.</td>\n",
              "      <td>Arizona</td>\n",
              "      <td>Gila</td>\n",
              "      <td>Not in a city</td>\n",
              "      <td>Payson, AZ</td>\n",
              "      <td>1/21/21</td>\n",
              "    </tr>\n",
              "  </tbody>\n",
              "</table>\n",
              "</div>"
            ],
            "text/plain": [
              "      State_Code  County_Code  ...   CBSA_Name  Date_of_Last_Change\n",
              "4320           4            7  ...  Payson, AZ              1/21/21\n",
              "4340           4            7  ...  Payson, AZ              1/21/21\n",
              "4342           4            7  ...  Payson, AZ              1/21/21\n",
              "4393           4            7  ...  Payson, AZ              1/21/21\n",
              "4408           4            7  ...  Payson, AZ              1/21/21\n",
              "\n",
              "[5 rows x 20 columns]"
            ]
          },
          "metadata": {
            "tags": []
          },
          "execution_count": 237
        }
      ]
    },
    {
      "cell_type": "markdown",
      "metadata": {
        "id": "FRgS1rLc9h7J"
      },
      "source": [
        "Elbow Method"
      ]
    },
    {
      "cell_type": "code",
      "metadata": {
        "id": "fkXg9UR-9b3z"
      },
      "source": [
        "k_rng=range(1,10)\n",
        "sse=[]\n",
        "for k in k_rng:\n",
        "  km = KMeans(n_clusters=k)\n",
        "  km.fit(my_so2[['Longitude','Latitude']])\n",
        "  sse.append(km.inertia_)"
      ],
      "execution_count": null,
      "outputs": []
    },
    {
      "cell_type": "code",
      "metadata": {
        "id": "dC4xPVeQ9oNG",
        "colab": {
          "base_uri": "https://localhost:8080/"
        },
        "outputId": "4a501e24-7fe7-4017-d228-8f8f4cb0f625"
      },
      "source": [
        "sse"
      ],
      "execution_count": null,
      "outputs": [
        {
          "output_type": "execute_result",
          "data": {
            "text/plain": [
              "[107163067.05097975,\n",
              " 43770909.28639401,\n",
              " 25560326.129912693,\n",
              " 15931936.07576118,\n",
              " 12592759.663719349,\n",
              " 10262732.392489176,\n",
              " 8028764.717737785,\n",
              " 6549164.319062293,\n",
              " 5405315.639600519]"
            ]
          },
          "metadata": {
            "tags": []
          },
          "execution_count": 239
        }
      ]
    },
    {
      "cell_type": "code",
      "metadata": {
        "id": "Jiq2qRJL9oy6",
        "colab": {
          "base_uri": "https://localhost:8080/"
        },
        "outputId": "b02bfefa-90ad-4ca7-8635-dffaff1f20da"
      },
      "source": [
        "plt.xlabel('K')\n",
        "plt.ylabel('Sum of squared error')\n",
        "plt.plot(k_rng, sse)"
      ],
      "execution_count": null,
      "outputs": [
        {
          "output_type": "execute_result",
          "data": {
            "text/plain": [
              "[<matplotlib.lines.Line2D at 0x7fc1a5fabe10>]"
            ]
          },
          "metadata": {
            "tags": []
          },
          "execution_count": 240
        },
        {
          "output_type": "display_data",
          "data": {
            "image/png": "[encoded data removed]",
            "text/plain": [
              "<Figure size 432x288 with 1 Axes>"
            ]
          },
          "metadata": {
            "tags": [],
            "needs_background": "light"
          }
        }
      ]
    },
    {
      "cell_type": "code",
      "metadata": {
        "id": "it6Kkx5C-3GX",
        "colab": {
          "base_uri": "https://localhost:8080/"
        },
        "outputId": "1c0e8a44-ce71-453c-dd7c-f8e6da9f7b6e"
      },
      "source": [
        "km = KMeans(n_clusters = 4)\n",
        "km"
      ],
      "execution_count": null,
      "outputs": [
        {
          "output_type": "execute_result",
          "data": {
            "text/plain": [
              "KMeans(algorithm='auto', copy_x=True, init='k-means++', max_iter=300,\n",
              "       n_clusters=4, n_init=10, n_jobs=None, precompute_distances='auto',\n",
              "       random_state=None, tol=0.0001, verbose=0)"
            ]
          },
          "metadata": {
            "tags": []
          },
          "execution_count": 241
        }
      ]
    },
    {
      "cell_type": "code",
      "metadata": {
        "id": "_gqIiytd_RLB"
      },
      "source": [
        "y_predicted = km.fit_predict(my_so2[['Longitude','Latitude']])\n",
        "y_predictedkm = KMeans(n_clusters = 4)\n"
      ],
      "execution_count": null,
      "outputs": []
    },
    {
      "cell_type": "code",
      "metadata": {
        "id": "Yjq0_nGHbo7D",
        "colab": {
          "base_uri": "https://localhost:8080/"
        },
        "outputId": "e98dadbe-51be-4fb1-ab7a-35df7ff69eea"
      },
      "source": [
        "my_so2['cluster']=y_predicted\n",
        "my_so2.head()"
      ],
      "execution_count": null,
      "outputs": [
        {
          "output_type": "execute_result",
          "data": {
            "text/html": [
              "<div>\n",
              "<style scoped>\n",
              "    .dataframe tbody tr th:only-of-type {\n",
              "        vertical-align: middle;\n",
              "    }\n",
              "\n",
              "    .dataframe tbody tr th {\n",
              "        vertical-align: top;\n",
              "    }\n",
              "\n",
              "    .dataframe thead th {\n",
              "        text-align: right;\n",
              "    }\n",
              "</style>\n",
              "<table border=\"1\" class=\"dataframe\">\n",
              "  <thead>\n",
              "    <tr style=\"text-align: right;\">\n",
              "      <th></th>\n",
              "      <th>State_Code</th>\n",
              "      <th>County_Code</th>\n",
              "      <th>Latitude</th>\n",
              "      <th>Longitude</th>\n",
              "      <th>Datum</th>\n",
              "      <th>Date_Local</th>\n",
              "      <th>Units_of_Measure</th>\n",
              "      <th>Observation_Count</th>\n",
              "      <th>Observation_Percent</th>\n",
              "      <th>Arithmetic_Mean</th>\n",
              "      <th>firstMaxValue</th>\n",
              "      <th>firstMaxHour</th>\n",
              "      <th>AQI</th>\n",
              "      <th>Local_Site_Name</th>\n",
              "      <th>Address</th>\n",
              "      <th>State_Name</th>\n",
              "      <th>County_Name</th>\n",
              "      <th>City_Name</th>\n",
              "      <th>CBSA_Name</th>\n",
              "      <th>Date_of_Last_Change</th>\n",
              "      <th>cluster</th>\n",
              "    </tr>\n",
              "  </thead>\n",
              "  <tbody>\n",
              "    <tr>\n",
              "      <th>0</th>\n",
              "      <td>1</td>\n",
              "      <td>73</td>\n",
              "      <td>33.553056</td>\n",
              "      <td>-86.815</td>\n",
              "      <td>WGS84</td>\n",
              "      <td>1/1/20</td>\n",
              "      <td>Parts per billion</td>\n",
              "      <td>21</td>\n",
              "      <td>88</td>\n",
              "      <td>2.509524</td>\n",
              "      <td>13.5</td>\n",
              "      <td>11</td>\n",
              "      <td>19.0</td>\n",
              "      <td>North Birmingham</td>\n",
              "      <td>NO. B'HAM,SOU R.R., 3009 28TH ST. NO.</td>\n",
              "      <td>Alabama</td>\n",
              "      <td>Jefferson</td>\n",
              "      <td>Birmingham</td>\n",
              "      <td>Birmingham-Hoover, AL</td>\n",
              "      <td>2/25/21</td>\n",
              "      <td>0</td>\n",
              "    </tr>\n",
              "    <tr>\n",
              "      <th>1</th>\n",
              "      <td>1</td>\n",
              "      <td>73</td>\n",
              "      <td>33.553056</td>\n",
              "      <td>-86.815</td>\n",
              "      <td>WGS84</td>\n",
              "      <td>1/2/20</td>\n",
              "      <td>Parts per billion</td>\n",
              "      <td>24</td>\n",
              "      <td>100</td>\n",
              "      <td>1.262500</td>\n",
              "      <td>4.8</td>\n",
              "      <td>0</td>\n",
              "      <td>6.0</td>\n",
              "      <td>North Birmingham</td>\n",
              "      <td>NO. B'HAM,SOU R.R., 3009 28TH ST. NO.</td>\n",
              "      <td>Alabama</td>\n",
              "      <td>Jefferson</td>\n",
              "      <td>Birmingham</td>\n",
              "      <td>Birmingham-Hoover, AL</td>\n",
              "      <td>2/25/21</td>\n",
              "      <td>0</td>\n",
              "    </tr>\n",
              "    <tr>\n",
              "      <th>2</th>\n",
              "      <td>1</td>\n",
              "      <td>73</td>\n",
              "      <td>33.553056</td>\n",
              "      <td>-86.815</td>\n",
              "      <td>WGS84</td>\n",
              "      <td>1/3/20</td>\n",
              "      <td>Parts per billion</td>\n",
              "      <td>24</td>\n",
              "      <td>100</td>\n",
              "      <td>0.450000</td>\n",
              "      <td>1.0</td>\n",
              "      <td>10</td>\n",
              "      <td>1.0</td>\n",
              "      <td>North Birmingham</td>\n",
              "      <td>NO. B'HAM,SOU R.R., 3009 28TH ST. NO.</td>\n",
              "      <td>Alabama</td>\n",
              "      <td>Jefferson</td>\n",
              "      <td>Birmingham</td>\n",
              "      <td>Birmingham-Hoover, AL</td>\n",
              "      <td>2/25/21</td>\n",
              "      <td>0</td>\n",
              "    </tr>\n",
              "    <tr>\n",
              "      <th>3</th>\n",
              "      <td>1</td>\n",
              "      <td>73</td>\n",
              "      <td>33.553056</td>\n",
              "      <td>-86.815</td>\n",
              "      <td>WGS84</td>\n",
              "      <td>1/4/20</td>\n",
              "      <td>Parts per billion</td>\n",
              "      <td>24</td>\n",
              "      <td>100</td>\n",
              "      <td>0.262500</td>\n",
              "      <td>0.3</td>\n",
              "      <td>0</td>\n",
              "      <td>0.0</td>\n",
              "      <td>North Birmingham</td>\n",
              "      <td>NO. B'HAM,SOU R.R., 3009 28TH ST. NO.</td>\n",
              "      <td>Alabama</td>\n",
              "      <td>Jefferson</td>\n",
              "      <td>Birmingham</td>\n",
              "      <td>Birmingham-Hoover, AL</td>\n",
              "      <td>2/25/21</td>\n",
              "      <td>0</td>\n",
              "    </tr>\n",
              "    <tr>\n",
              "      <th>4</th>\n",
              "      <td>1</td>\n",
              "      <td>73</td>\n",
              "      <td>33.553056</td>\n",
              "      <td>-86.815</td>\n",
              "      <td>WGS84</td>\n",
              "      <td>1/5/20</td>\n",
              "      <td>Parts per billion</td>\n",
              "      <td>24</td>\n",
              "      <td>100</td>\n",
              "      <td>0.395833</td>\n",
              "      <td>0.8</td>\n",
              "      <td>19</td>\n",
              "      <td>0.0</td>\n",
              "      <td>North Birmingham</td>\n",
              "      <td>NO. B'HAM,SOU R.R., 3009 28TH ST. NO.</td>\n",
              "      <td>Alabama</td>\n",
              "      <td>Jefferson</td>\n",
              "      <td>Birmingham</td>\n",
              "      <td>Birmingham-Hoover, AL</td>\n",
              "      <td>2/25/21</td>\n",
              "      <td>0</td>\n",
              "    </tr>\n",
              "  </tbody>\n",
              "</table>\n",
              "</div>"
            ],
            "text/plain": [
              "   State_Code  County_Code  ...  Date_of_Last_Change  cluster\n",
              "0           1           73  ...              2/25/21        0\n",
              "1           1           73  ...              2/25/21        0\n",
              "2           1           73  ...              2/25/21        0\n",
              "3           1           73  ...              2/25/21        0\n",
              "4           1           73  ...              2/25/21        0\n",
              "\n",
              "[5 rows x 21 columns]"
            ]
          },
          "metadata": {
            "tags": []
          },
          "execution_count": 243
        }
      ]
    },
    {
      "cell_type": "code",
      "metadata": {
        "id": "a2paHWHA_T7j",
        "colab": {
          "base_uri": "https://localhost:8080/",
          "height": 313
        },
        "outputId": "31ea2e87-1d8d-4e1c-f5cf-0599073ad077"
      },
      "source": [
        "my_so21 = my_so2[my_so2.cluster ==0]\n",
        "my_so22 = my_so2[my_so2.cluster ==1]\n",
        "my_so23 = my_so2[my_so2.cluster ==2]\n",
        "my_so24 = my_so2[my_so2.cluster ==3]\n",
        "\n",
        "plt.scatter(my_so21.Longitude,my_so21['Latitude'],color ='green')\n",
        "plt.scatter(my_so22.Longitude,my_so22['Latitude'],color = 'red')\n",
        "plt.scatter(my_so23.Longitude,my_so23['Latitude'],color='black')\n",
        "plt.scatter(my_so24.Longitude,my_so24['Latitude'],color='blue')\n",
        "#\n",
        "\n",
        "\n",
        "plt.xlabel('Longitude')\n",
        "plt.ylabel('Latitude')\n",
        "plt.legend()"
      ],
      "execution_count": null,
      "outputs": [
        {
          "output_type": "stream",
          "text": [
            "No handles with labels found to put in legend.\n"
          ],
          "name": "stderr"
        },
        {
          "output_type": "execute_result",
          "data": {
            "text/plain": [
              "<matplotlib.legend.Legend at 0x7fc1a5dad950>"
            ]
          },
          "metadata": {
            "tags": []
          },
          "execution_count": 244
        },
        {
          "output_type": "display_data",
          "data": {
            "image/png": "[encoded data removed]",
            "text/plain": [
              "<Figure size 432x288 with 1 Axes>"
            ]
          },
          "metadata": {
            "tags": [],
            "needs_background": "light"
          }
        }
      ]
    },
    {
      "cell_type": "markdown",
      "metadata": {
        "id": "SabGrYOOAAcg"
      },
      "source": [
        "# 3.Carbon Monoxide"
      ]
    },
    {
      "cell_type": "code",
      "metadata": {
        "id": "UU7a-SM2ANSf",
        "colab": {
          "base_uri": "https://localhost:8080/",
          "height": 428
        },
        "outputId": "cd954142-169a-4f1f-cc75-f33d35c38bae"
      },
      "source": [
        "my_co = df_co.copy()\n",
        "hi_aqi = my_co.AQI > 10\n",
        "my_co[hi_aqi]['Longitude']\n",
        "my_co[hi_aqi]['Latitude']\n",
        "#print(my_df[hi_aqi])\n",
        "my_co[hi_aqi].head()"
      ],
      "execution_count": null,
      "outputs": [
        {
          "output_type": "execute_result",
          "data": {
            "text/html": [
              "<div>\n",
              "<style scoped>\n",
              "    .dataframe tbody tr th:only-of-type {\n",
              "        vertical-align: middle;\n",
              "    }\n",
              "\n",
              "    .dataframe tbody tr th {\n",
              "        vertical-align: top;\n",
              "    }\n",
              "\n",
              "    .dataframe thead th {\n",
              "        text-align: right;\n",
              "    }\n",
              "</style>\n",
              "<table border=\"1\" class=\"dataframe\">\n",
              "  <thead>\n",
              "    <tr style=\"text-align: right;\">\n",
              "      <th></th>\n",
              "      <th>State_Code</th>\n",
              "      <th>County_Code</th>\n",
              "      <th>Latitude</th>\n",
              "      <th>Longitude</th>\n",
              "      <th>Datum</th>\n",
              "      <th>Date_Local</th>\n",
              "      <th>Units_of_Measure</th>\n",
              "      <th>Observation_Count</th>\n",
              "      <th>Observation_Percent</th>\n",
              "      <th>Arithmetic_Mean</th>\n",
              "      <th>firstMaxValue</th>\n",
              "      <th>firstMaxHour</th>\n",
              "      <th>AQI</th>\n",
              "      <th>Local_Site_Name</th>\n",
              "      <th>Address</th>\n",
              "      <th>State_Name</th>\n",
              "      <th>County_Name</th>\n",
              "      <th>City_Name</th>\n",
              "      <th>CBSA_Name</th>\n",
              "      <th>Date_of_Last_Change</th>\n",
              "      <th>short_name</th>\n",
              "    </tr>\n",
              "  </thead>\n",
              "  <tbody>\n",
              "    <tr>\n",
              "      <th>381</th>\n",
              "      <td>1</td>\n",
              "      <td>73</td>\n",
              "      <td>33.553056</td>\n",
              "      <td>-86.815</td>\n",
              "      <td>WGS84</td>\n",
              "      <td>1/28/20</td>\n",
              "      <td>Parts per million</td>\n",
              "      <td>18</td>\n",
              "      <td>75</td>\n",
              "      <td>0.616667</td>\n",
              "      <td>1.2</td>\n",
              "      <td>8</td>\n",
              "      <td>14.0</td>\n",
              "      <td>North Birmingham</td>\n",
              "      <td>NO. B'HAM,SOU R.R., 3009 28TH ST. NO.</td>\n",
              "      <td>Alabama</td>\n",
              "      <td>Jefferson</td>\n",
              "      <td>Birmingham</td>\n",
              "      <td>Birmingham-Hoover, AL</td>\n",
              "      <td>4/12/21</td>\n",
              "      <td>AL</td>\n",
              "    </tr>\n",
              "    <tr>\n",
              "      <th>1101</th>\n",
              "      <td>1</td>\n",
              "      <td>73</td>\n",
              "      <td>33.485556</td>\n",
              "      <td>-86.915</td>\n",
              "      <td>WGS84</td>\n",
              "      <td>1/28/20</td>\n",
              "      <td>Parts per million</td>\n",
              "      <td>24</td>\n",
              "      <td>100</td>\n",
              "      <td>0.625000</td>\n",
              "      <td>1.0</td>\n",
              "      <td>7</td>\n",
              "      <td>11.0</td>\n",
              "      <td>Fairfield</td>\n",
              "      <td>FAIRFIELD, PFD, 5229 COURT B</td>\n",
              "      <td>Alabama</td>\n",
              "      <td>Jefferson</td>\n",
              "      <td>Fairfield</td>\n",
              "      <td>Birmingham-Hoover, AL</td>\n",
              "      <td>3/21/21</td>\n",
              "      <td>AL</td>\n",
              "    </tr>\n",
              "    <tr>\n",
              "      <th>1113</th>\n",
              "      <td>1</td>\n",
              "      <td>73</td>\n",
              "      <td>33.485556</td>\n",
              "      <td>-86.915</td>\n",
              "      <td>WGS84</td>\n",
              "      <td>2/9/20</td>\n",
              "      <td>Parts per million</td>\n",
              "      <td>24</td>\n",
              "      <td>100</td>\n",
              "      <td>0.420833</td>\n",
              "      <td>1.0</td>\n",
              "      <td>6</td>\n",
              "      <td>11.0</td>\n",
              "      <td>Fairfield</td>\n",
              "      <td>FAIRFIELD, PFD, 5229 COURT B</td>\n",
              "      <td>Alabama</td>\n",
              "      <td>Jefferson</td>\n",
              "      <td>Fairfield</td>\n",
              "      <td>Birmingham-Hoover, AL</td>\n",
              "      <td>3/21/21</td>\n",
              "      <td>AL</td>\n",
              "    </tr>\n",
              "    <tr>\n",
              "      <th>1355</th>\n",
              "      <td>1</td>\n",
              "      <td>73</td>\n",
              "      <td>33.485556</td>\n",
              "      <td>-86.915</td>\n",
              "      <td>WGS84</td>\n",
              "      <td>10/8/20</td>\n",
              "      <td>Parts per million</td>\n",
              "      <td>24</td>\n",
              "      <td>100</td>\n",
              "      <td>0.908333</td>\n",
              "      <td>1.0</td>\n",
              "      <td>4</td>\n",
              "      <td>11.0</td>\n",
              "      <td>Fairfield</td>\n",
              "      <td>FAIRFIELD, PFD, 5229 COURT B</td>\n",
              "      <td>Alabama</td>\n",
              "      <td>Jefferson</td>\n",
              "      <td>Fairfield</td>\n",
              "      <td>Birmingham-Hoover, AL</td>\n",
              "      <td>3/21/21</td>\n",
              "      <td>AL</td>\n",
              "    </tr>\n",
              "    <tr>\n",
              "      <th>1356</th>\n",
              "      <td>1</td>\n",
              "      <td>73</td>\n",
              "      <td>33.485556</td>\n",
              "      <td>-86.915</td>\n",
              "      <td>WGS84</td>\n",
              "      <td>10/9/20</td>\n",
              "      <td>Parts per million</td>\n",
              "      <td>24</td>\n",
              "      <td>100</td>\n",
              "      <td>0.783333</td>\n",
              "      <td>1.1</td>\n",
              "      <td>0</td>\n",
              "      <td>13.0</td>\n",
              "      <td>Fairfield</td>\n",
              "      <td>FAIRFIELD, PFD, 5229 COURT B</td>\n",
              "      <td>Alabama</td>\n",
              "      <td>Jefferson</td>\n",
              "      <td>Fairfield</td>\n",
              "      <td>Birmingham-Hoover, AL</td>\n",
              "      <td>3/21/21</td>\n",
              "      <td>AL</td>\n",
              "    </tr>\n",
              "  </tbody>\n",
              "</table>\n",
              "</div>"
            ],
            "text/plain": [
              "      State_Code  County_Code  ...  Date_of_Last_Change  short_name\n",
              "381            1           73  ...              4/12/21          AL\n",
              "1101           1           73  ...              3/21/21          AL\n",
              "1113           1           73  ...              3/21/21          AL\n",
              "1355           1           73  ...              3/21/21          AL\n",
              "1356           1           73  ...              3/21/21          AL\n",
              "\n",
              "[5 rows x 21 columns]"
            ]
          },
          "metadata": {
            "tags": []
          },
          "execution_count": 245
        }
      ]
    },
    {
      "cell_type": "code",
      "metadata": {
        "id": "MlLw42iUASQe"
      },
      "source": [
        "k_rng=range(1,10)\n",
        "sse=[]\n",
        "for k in k_rng:\n",
        "  km = KMeans(n_clusters=k)\n",
        "  km.fit(my_co[['Longitude','Latitude']])\n",
        "  sse.append(km.inertia_)"
      ],
      "execution_count": null,
      "outputs": []
    },
    {
      "cell_type": "code",
      "metadata": {
        "id": "di7zSxWyAUOt",
        "colab": {
          "base_uri": "https://localhost:8080/"
        },
        "outputId": "86d04f06-9fdf-4688-a9e7-e486599d2eb5"
      },
      "source": [
        "sse"
      ],
      "execution_count": null,
      "outputs": [
        {
          "output_type": "execute_result",
          "data": {
            "text/plain": [
              "[35197827.63677342,\n",
              " 9146131.790894788,\n",
              " 6685006.838903268,\n",
              " 4468740.408273341,\n",
              " 3603763.1736763935,\n",
              " 2861951.5123480717,\n",
              " 2352101.0188323194,\n",
              " 1825501.4945971558,\n",
              " 1504029.7382179648]"
            ]
          },
          "metadata": {
            "tags": []
          },
          "execution_count": 247
        }
      ]
    },
    {
      "cell_type": "code",
      "metadata": {
        "id": "ZKWKTBcxA8g6",
        "colab": {
          "base_uri": "https://localhost:8080/"
        },
        "outputId": "51cd270a-1601-44e5-f4cd-6f9e9eaa741e"
      },
      "source": [
        "plt.xlabel('K')\n",
        "plt.ylabel('Sum of squared error')\n",
        "plt.plot(k_rng, sse)"
      ],
      "execution_count": null,
      "outputs": [
        {
          "output_type": "execute_result",
          "data": {
            "text/plain": [
              "[<matplotlib.lines.Line2D at 0x7fc1a2e08790>]"
            ]
          },
          "metadata": {
            "tags": []
          },
          "execution_count": 248
        },
        {
          "output_type": "display_data",
          "data": {
            "image/png": "[encoded data removed]",
            "text/plain": [
              "<Figure size 432x288 with 1 Axes>"
            ]
          },
          "metadata": {
            "tags": [],
            "needs_background": "light"
          }
        }
      ]
    },
    {
      "cell_type": "code",
      "metadata": {
        "id": "ObKS31ZhBtfk",
        "colab": {
          "base_uri": "https://localhost:8080/"
        },
        "outputId": "be5a4d66-abe7-402b-c35d-af1f0c502afb"
      },
      "source": [
        "km = KMeans(n_clusters = 4)\n",
        "km"
      ],
      "execution_count": null,
      "outputs": [
        {
          "output_type": "execute_result",
          "data": {
            "text/plain": [
              "KMeans(algorithm='auto', copy_x=True, init='k-means++', max_iter=300,\n",
              "       n_clusters=4, n_init=10, n_jobs=None, precompute_distances='auto',\n",
              "       random_state=None, tol=0.0001, verbose=0)"
            ]
          },
          "metadata": {
            "tags": []
          },
          "execution_count": 249
        }
      ]
    },
    {
      "cell_type": "code",
      "metadata": {
        "id": "IuvfeRVREO0M",
        "colab": {
          "base_uri": "https://localhost:8080/"
        },
        "outputId": "f7921aa5-a1c0-4f95-fb40-8d1db9d83c90"
      },
      "source": [
        "km = KMeans(n_clusters = 4)\n",
        "y_predicted = km.fit_predict(my_co[['Longitude','Latitude']])\n",
        "y_predicted"
      ],
      "execution_count": null,
      "outputs": [
        {
          "output_type": "execute_result",
          "data": {
            "text/plain": [
              "array([0, 0, 0, ..., 2, 2, 2], dtype=int32)"
            ]
          },
          "metadata": {
            "tags": []
          },
          "execution_count": 250
        }
      ]
    },
    {
      "cell_type": "code",
      "metadata": {
        "id": "3Vzomti6c0f0",
        "colab": {
          "base_uri": "https://localhost:8080/"
        },
        "outputId": "ef88c315-19c4-4493-9b47-2f1d57714a31"
      },
      "source": [
        "my_co['cluster']=y_predicted\n",
        "my_co.head()"
      ],
      "execution_count": null,
      "outputs": [
        {
          "output_type": "execute_result",
          "data": {
            "text/html": [
              "<div>\n",
              "<style scoped>\n",
              "    .dataframe tbody tr th:only-of-type {\n",
              "        vertical-align: middle;\n",
              "    }\n",
              "\n",
              "    .dataframe tbody tr th {\n",
              "        vertical-align: top;\n",
              "    }\n",
              "\n",
              "    .dataframe thead th {\n",
              "        text-align: right;\n",
              "    }\n",
              "</style>\n",
              "<table border=\"1\" class=\"dataframe\">\n",
              "  <thead>\n",
              "    <tr style=\"text-align: right;\">\n",
              "      <th></th>\n",
              "      <th>State_Code</th>\n",
              "      <th>County_Code</th>\n",
              "      <th>Latitude</th>\n",
              "      <th>Longitude</th>\n",
              "      <th>Datum</th>\n",
              "      <th>Date_Local</th>\n",
              "      <th>Units_of_Measure</th>\n",
              "      <th>Observation_Count</th>\n",
              "      <th>Observation_Percent</th>\n",
              "      <th>Arithmetic_Mean</th>\n",
              "      <th>firstMaxValue</th>\n",
              "      <th>firstMaxHour</th>\n",
              "      <th>AQI</th>\n",
              "      <th>Local_Site_Name</th>\n",
              "      <th>Address</th>\n",
              "      <th>State_Name</th>\n",
              "      <th>County_Name</th>\n",
              "      <th>City_Name</th>\n",
              "      <th>CBSA_Name</th>\n",
              "      <th>Date_of_Last_Change</th>\n",
              "      <th>short_name</th>\n",
              "      <th>cluster</th>\n",
              "    </tr>\n",
              "  </thead>\n",
              "  <tbody>\n",
              "    <tr>\n",
              "      <th>354</th>\n",
              "      <td>1</td>\n",
              "      <td>73</td>\n",
              "      <td>33.553056</td>\n",
              "      <td>-86.815</td>\n",
              "      <td>WGS84</td>\n",
              "      <td>1/1/20</td>\n",
              "      <td>Parts per million</td>\n",
              "      <td>16</td>\n",
              "      <td>67</td>\n",
              "      <td>0.300000</td>\n",
              "      <td>0.5</td>\n",
              "      <td>8</td>\n",
              "      <td>6.0</td>\n",
              "      <td>North Birmingham</td>\n",
              "      <td>NO. B'HAM,SOU R.R., 3009 28TH ST. NO.</td>\n",
              "      <td>Alabama</td>\n",
              "      <td>Jefferson</td>\n",
              "      <td>Birmingham</td>\n",
              "      <td>Birmingham-Hoover, AL</td>\n",
              "      <td>4/12/21</td>\n",
              "      <td>AL</td>\n",
              "      <td>0</td>\n",
              "    </tr>\n",
              "    <tr>\n",
              "      <th>355</th>\n",
              "      <td>1</td>\n",
              "      <td>73</td>\n",
              "      <td>33.553056</td>\n",
              "      <td>-86.815</td>\n",
              "      <td>WGS84</td>\n",
              "      <td>1/2/20</td>\n",
              "      <td>Parts per million</td>\n",
              "      <td>24</td>\n",
              "      <td>100</td>\n",
              "      <td>0.245833</td>\n",
              "      <td>0.3</td>\n",
              "      <td>0</td>\n",
              "      <td>3.0</td>\n",
              "      <td>North Birmingham</td>\n",
              "      <td>NO. B'HAM,SOU R.R., 3009 28TH ST. NO.</td>\n",
              "      <td>Alabama</td>\n",
              "      <td>Jefferson</td>\n",
              "      <td>Birmingham</td>\n",
              "      <td>Birmingham-Hoover, AL</td>\n",
              "      <td>4/12/21</td>\n",
              "      <td>AL</td>\n",
              "      <td>0</td>\n",
              "    </tr>\n",
              "    <tr>\n",
              "      <th>356</th>\n",
              "      <td>1</td>\n",
              "      <td>73</td>\n",
              "      <td>33.553056</td>\n",
              "      <td>-86.815</td>\n",
              "      <td>WGS84</td>\n",
              "      <td>1/3/20</td>\n",
              "      <td>Parts per million</td>\n",
              "      <td>24</td>\n",
              "      <td>100</td>\n",
              "      <td>0.308333</td>\n",
              "      <td>0.5</td>\n",
              "      <td>15</td>\n",
              "      <td>6.0</td>\n",
              "      <td>North Birmingham</td>\n",
              "      <td>NO. B'HAM,SOU R.R., 3009 28TH ST. NO.</td>\n",
              "      <td>Alabama</td>\n",
              "      <td>Jefferson</td>\n",
              "      <td>Birmingham</td>\n",
              "      <td>Birmingham-Hoover, AL</td>\n",
              "      <td>4/12/21</td>\n",
              "      <td>AL</td>\n",
              "      <td>0</td>\n",
              "    </tr>\n",
              "    <tr>\n",
              "      <th>357</th>\n",
              "      <td>1</td>\n",
              "      <td>73</td>\n",
              "      <td>33.553056</td>\n",
              "      <td>-86.815</td>\n",
              "      <td>WGS84</td>\n",
              "      <td>1/4/20</td>\n",
              "      <td>Parts per million</td>\n",
              "      <td>24</td>\n",
              "      <td>100</td>\n",
              "      <td>0.200000</td>\n",
              "      <td>0.2</td>\n",
              "      <td>0</td>\n",
              "      <td>2.0</td>\n",
              "      <td>North Birmingham</td>\n",
              "      <td>NO. B'HAM,SOU R.R., 3009 28TH ST. NO.</td>\n",
              "      <td>Alabama</td>\n",
              "      <td>Jefferson</td>\n",
              "      <td>Birmingham</td>\n",
              "      <td>Birmingham-Hoover, AL</td>\n",
              "      <td>4/12/21</td>\n",
              "      <td>AL</td>\n",
              "      <td>0</td>\n",
              "    </tr>\n",
              "    <tr>\n",
              "      <th>358</th>\n",
              "      <td>1</td>\n",
              "      <td>73</td>\n",
              "      <td>33.553056</td>\n",
              "      <td>-86.815</td>\n",
              "      <td>WGS84</td>\n",
              "      <td>1/5/20</td>\n",
              "      <td>Parts per million</td>\n",
              "      <td>24</td>\n",
              "      <td>100</td>\n",
              "      <td>0.275000</td>\n",
              "      <td>0.4</td>\n",
              "      <td>19</td>\n",
              "      <td>5.0</td>\n",
              "      <td>North Birmingham</td>\n",
              "      <td>NO. B'HAM,SOU R.R., 3009 28TH ST. NO.</td>\n",
              "      <td>Alabama</td>\n",
              "      <td>Jefferson</td>\n",
              "      <td>Birmingham</td>\n",
              "      <td>Birmingham-Hoover, AL</td>\n",
              "      <td>4/12/21</td>\n",
              "      <td>AL</td>\n",
              "      <td>0</td>\n",
              "    </tr>\n",
              "  </tbody>\n",
              "</table>\n",
              "</div>"
            ],
            "text/plain": [
              "     State_Code  County_Code   Latitude  ...  Date_of_Last_Change short_name cluster\n",
              "354           1           73  33.553056  ...              4/12/21         AL       0\n",
              "355           1           73  33.553056  ...              4/12/21         AL       0\n",
              "356           1           73  33.553056  ...              4/12/21         AL       0\n",
              "357           1           73  33.553056  ...              4/12/21         AL       0\n",
              "358           1           73  33.553056  ...              4/12/21         AL       0\n",
              "\n",
              "[5 rows x 22 columns]"
            ]
          },
          "metadata": {
            "tags": []
          },
          "execution_count": 251
        }
      ]
    },
    {
      "cell_type": "code",
      "metadata": {
        "id": "IcJ1HT8wERYw",
        "colab": {
          "base_uri": "https://localhost:8080/"
        },
        "outputId": "b4a529fd-248f-4985-82b4-f7ad8b9d034d"
      },
      "source": [
        "km.cluster_centers_"
      ],
      "execution_count": null,
      "outputs": [
        {
          "output_type": "execute_result",
          "data": {
            "text/plain": [
              "array([[ -91.99634757,   37.36835353],\n",
              "       [-116.47624814,   36.85871939],\n",
              "       [ -77.7292662 ,   38.43926738],\n",
              "       [-154.5965458 ,   36.86298335]])"
            ]
          },
          "metadata": {
            "tags": []
          },
          "execution_count": 252
        }
      ]
    },
    {
      "cell_type": "code",
      "metadata": {
        "id": "UF7WnrTLER6K",
        "colab": {
          "base_uri": "https://localhost:8080/",
          "height": 313
        },
        "outputId": "c5e0927d-8c2d-4c80-f6f0-300373f23f50"
      },
      "source": [
        "my_co1 = my_co[my_co.cluster ==0]\n",
        "my_co2 = my_co[my_co.cluster ==1]\n",
        "my_co3 = my_co[my_co.cluster ==2]\n",
        "my_co4 = my_co[my_co.cluster ==3]\n",
        "\n",
        "plt.scatter(my_co1.Longitude,my_co1['Latitude'],color ='green' )\n",
        "plt.scatter(my_co2.Longitude,my_co2['Latitude'],color = 'red')\n",
        "plt.scatter(my_co3.Longitude,my_co3['Latitude'],color='black')\n",
        "plt.scatter(my_co4.Longitude,my_co4['Latitude'],color='blue')\n",
        "\n",
        "plt.xlabel('Latitude')\n",
        "plt.ylabel('Longitude')\n",
        "plt.legend()"
      ],
      "execution_count": null,
      "outputs": [
        {
          "output_type": "stream",
          "text": [
            "No handles with labels found to put in legend.\n"
          ],
          "name": "stderr"
        },
        {
          "output_type": "execute_result",
          "data": {
            "text/plain": [
              "<matplotlib.legend.Legend at 0x7fc1a2e52550>"
            ]
          },
          "metadata": {
            "tags": []
          },
          "execution_count": 253
        },
        {
          "output_type": "display_data",
          "data": {
            "image/png": "[encoded data removed]",
            "text/plain": [
              "<Figure size 432x288 with 1 Axes>"
            ]
          },
          "metadata": {
            "tags": [],
            "needs_background": "light"
          }
        }
      ]
    },
    {
      "cell_type": "markdown",
      "metadata": {
        "id": "S_hZkMx-ET8K"
      },
      "source": [
        "#4 Nitrogen Dioxide"
      ]
    },
    {
      "cell_type": "code",
      "metadata": {
        "colab": {
          "base_uri": "https://localhost:8080/",
          "height": 649
        },
        "id": "cJwV6N2PSpKq",
        "outputId": "361f0919-2ae2-48db-d050-bd23f54631d5"
      },
      "source": [
        "my_no2 = df_no2.copy()\n",
        "hi_aqi = my_no2.AQI > 80\n",
        "my_no2[hi_aqi]['Longitude']\n",
        "my_no2[hi_aqi]['Latitude']\n",
        "my_no2[hi_aqi].head()"
      ],
      "execution_count": null,
      "outputs": [
        {
          "output_type": "execute_result",
          "data": {
            "text/html": [
              "<div>\n",
              "<style scoped>\n",
              "    .dataframe tbody tr th:only-of-type {\n",
              "        vertical-align: middle;\n",
              "    }\n",
              "\n",
              "    .dataframe tbody tr th {\n",
              "        vertical-align: top;\n",
              "    }\n",
              "\n",
              "    .dataframe thead th {\n",
              "        text-align: right;\n",
              "    }\n",
              "</style>\n",
              "<table border=\"1\" class=\"dataframe\">\n",
              "  <thead>\n",
              "    <tr style=\"text-align: right;\">\n",
              "      <th></th>\n",
              "      <th>State_Code</th>\n",
              "      <th>County_Code</th>\n",
              "      <th>Site_Num</th>\n",
              "      <th>Latitude</th>\n",
              "      <th>Longitude</th>\n",
              "      <th>Datum</th>\n",
              "      <th>Date_Local</th>\n",
              "      <th>Units_of_Measure</th>\n",
              "      <th>Event_Type</th>\n",
              "      <th>Observation_Count</th>\n",
              "      <th>Observation_Percent</th>\n",
              "      <th>Arithmetic_Mean</th>\n",
              "      <th>firstMaxValue</th>\n",
              "      <th>firstMaxHour</th>\n",
              "      <th>AQI</th>\n",
              "      <th>Local_Site_Name</th>\n",
              "      <th>Address</th>\n",
              "      <th>State_Name</th>\n",
              "      <th>County_Name</th>\n",
              "      <th>City_Name</th>\n",
              "      <th>CBSA_Name</th>\n",
              "      <th>Date_of_Last_Change</th>\n",
              "      <th>short_name</th>\n",
              "    </tr>\n",
              "  </thead>\n",
              "  <tbody>\n",
              "    <tr>\n",
              "      <th>16920</th>\n",
              "      <td>6</td>\n",
              "      <td>37</td>\n",
              "      <td>4008</td>\n",
              "      <td>33.859662</td>\n",
              "      <td>-118.200707</td>\n",
              "      <td>NAD83</td>\n",
              "      <td>9/11/20</td>\n",
              "      <td>Parts per billion</td>\n",
              "      <td>None</td>\n",
              "      <td>24</td>\n",
              "      <td>100</td>\n",
              "      <td>41.700000</td>\n",
              "      <td>91.7</td>\n",
              "      <td>11</td>\n",
              "      <td>90</td>\n",
              "      <td>Long Beach-Route 710 Near Road</td>\n",
              "      <td>5895 Long Beach Blvd.</td>\n",
              "      <td>California</td>\n",
              "      <td>Los Angeles</td>\n",
              "      <td>Long Beach</td>\n",
              "      <td>Los Angeles-Long Beach-Anaheim, CA</td>\n",
              "      <td>4/9/21</td>\n",
              "      <td>CA</td>\n",
              "    </tr>\n",
              "    <tr>\n",
              "      <th>16925</th>\n",
              "      <td>6</td>\n",
              "      <td>37</td>\n",
              "      <td>4008</td>\n",
              "      <td>33.859662</td>\n",
              "      <td>-118.200707</td>\n",
              "      <td>NAD83</td>\n",
              "      <td>9/16/20</td>\n",
              "      <td>Parts per billion</td>\n",
              "      <td>None</td>\n",
              "      <td>24</td>\n",
              "      <td>100</td>\n",
              "      <td>52.870833</td>\n",
              "      <td>100.1</td>\n",
              "      <td>10</td>\n",
              "      <td>100</td>\n",
              "      <td>Long Beach-Route 710 Near Road</td>\n",
              "      <td>5895 Long Beach Blvd.</td>\n",
              "      <td>California</td>\n",
              "      <td>Los Angeles</td>\n",
              "      <td>Long Beach</td>\n",
              "      <td>Los Angeles-Long Beach-Anaheim, CA</td>\n",
              "      <td>4/9/21</td>\n",
              "      <td>CA</td>\n",
              "    </tr>\n",
              "    <tr>\n",
              "      <th>16939</th>\n",
              "      <td>6</td>\n",
              "      <td>37</td>\n",
              "      <td>4008</td>\n",
              "      <td>33.859662</td>\n",
              "      <td>-118.200707</td>\n",
              "      <td>NAD83</td>\n",
              "      <td>9/30/20</td>\n",
              "      <td>Parts per billion</td>\n",
              "      <td>None</td>\n",
              "      <td>24</td>\n",
              "      <td>100</td>\n",
              "      <td>49.437500</td>\n",
              "      <td>96.7</td>\n",
              "      <td>9</td>\n",
              "      <td>96</td>\n",
              "      <td>Long Beach-Route 710 Near Road</td>\n",
              "      <td>5895 Long Beach Blvd.</td>\n",
              "      <td>California</td>\n",
              "      <td>Los Angeles</td>\n",
              "      <td>Long Beach</td>\n",
              "      <td>Los Angeles-Long Beach-Anaheim, CA</td>\n",
              "      <td>4/9/21</td>\n",
              "      <td>CA</td>\n",
              "    </tr>\n",
              "    <tr>\n",
              "      <th>16954</th>\n",
              "      <td>6</td>\n",
              "      <td>37</td>\n",
              "      <td>4008</td>\n",
              "      <td>33.859662</td>\n",
              "      <td>-118.200707</td>\n",
              "      <td>NAD83</td>\n",
              "      <td>10/15/20</td>\n",
              "      <td>Parts per billion</td>\n",
              "      <td>None</td>\n",
              "      <td>24</td>\n",
              "      <td>100</td>\n",
              "      <td>57.287500</td>\n",
              "      <td>99.4</td>\n",
              "      <td>11</td>\n",
              "      <td>99</td>\n",
              "      <td>Long Beach-Route 710 Near Road</td>\n",
              "      <td>5895 Long Beach Blvd.</td>\n",
              "      <td>California</td>\n",
              "      <td>Los Angeles</td>\n",
              "      <td>Long Beach</td>\n",
              "      <td>Los Angeles-Long Beach-Anaheim, CA</td>\n",
              "      <td>4/9/21</td>\n",
              "      <td>CA</td>\n",
              "    </tr>\n",
              "    <tr>\n",
              "      <th>16966</th>\n",
              "      <td>6</td>\n",
              "      <td>37</td>\n",
              "      <td>4008</td>\n",
              "      <td>33.859662</td>\n",
              "      <td>-118.200707</td>\n",
              "      <td>NAD83</td>\n",
              "      <td>10/27/20</td>\n",
              "      <td>Parts per billion</td>\n",
              "      <td>None</td>\n",
              "      <td>24</td>\n",
              "      <td>100</td>\n",
              "      <td>51.775000</td>\n",
              "      <td>88.1</td>\n",
              "      <td>8</td>\n",
              "      <td>87</td>\n",
              "      <td>Long Beach-Route 710 Near Road</td>\n",
              "      <td>5895 Long Beach Blvd.</td>\n",
              "      <td>California</td>\n",
              "      <td>Los Angeles</td>\n",
              "      <td>Long Beach</td>\n",
              "      <td>Los Angeles-Long Beach-Anaheim, CA</td>\n",
              "      <td>4/9/21</td>\n",
              "      <td>CA</td>\n",
              "    </tr>\n",
              "  </tbody>\n",
              "</table>\n",
              "</div>"
            ],
            "text/plain": [
              "       State_Code  County_Code  ...  Date_of_Last_Change  short_name\n",
              "16920           6           37  ...               4/9/21          CA\n",
              "16925           6           37  ...               4/9/21          CA\n",
              "16939           6           37  ...               4/9/21          CA\n",
              "16954           6           37  ...               4/9/21          CA\n",
              "16966           6           37  ...               4/9/21          CA\n",
              "\n",
              "[5 rows x 23 columns]"
            ]
          },
          "metadata": {
            "tags": []
          },
          "execution_count": 254
        }
      ]
    },
    {
      "cell_type": "code",
      "metadata": {
        "id": "rNf8IZYgFz3W"
      },
      "source": [
        "k_rng=range(1,10)\n",
        "sse=[]\n",
        "for k in k_rng:\n",
        "  km = KMeans(n_clusters=k)\n",
        "  km.fit(my_no2[['Longitude','Latitude']])\n",
        "  sse.append(km.inertia_)"
      ],
      "execution_count": null,
      "outputs": []
    },
    {
      "cell_type": "code",
      "metadata": {
        "id": "kSTS2zQsF2zr",
        "colab": {
          "base_uri": "https://localhost:8080/"
        },
        "outputId": "e7d1d18c-db97-4068-d37d-3d2845b0346c"
      },
      "source": [
        "sse"
      ],
      "execution_count": null,
      "outputs": [
        {
          "output_type": "execute_result",
          "data": {
            "text/plain": [
              "[49085290.01484696,\n",
              " 14430226.976789746,\n",
              " 8756659.594976954,\n",
              " 6098367.625570593,\n",
              " 4802501.584455651,\n",
              " 3688737.020293184,\n",
              " 2909011.3349906006,\n",
              " 2475514.2202911507,\n",
              " 2103383.768310357]"
            ]
          },
          "metadata": {
            "tags": []
          },
          "execution_count": 256
        }
      ]
    },
    {
      "cell_type": "code",
      "metadata": {
        "id": "zTbL0wchF81-",
        "colab": {
          "base_uri": "https://localhost:8080/"
        },
        "outputId": "81063883-2f16-4c88-a01e-8b96a6c196bd"
      },
      "source": [
        "plt.xlabel('K')\n",
        "plt.ylabel('Sum of squared error')\n",
        "plt.plot(k_rng, sse)"
      ],
      "execution_count": null,
      "outputs": [
        {
          "output_type": "execute_result",
          "data": {
            "text/plain": [
              "[<matplotlib.lines.Line2D at 0x7fc1a4c81510>]"
            ]
          },
          "metadata": {
            "tags": []
          },
          "execution_count": 257
        },
        {
          "output_type": "display_data",
          "data": {
            "image/png": "[encoded data removed]",
            "text/plain": [
              "<Figure size 432x288 with 1 Axes>"
            ]
          },
          "metadata": {
            "tags": [],
            "needs_background": "light"
          }
        }
      ]
    },
    {
      "cell_type": "code",
      "metadata": {
        "id": "L_f9MXhXGHF9",
        "colab": {
          "base_uri": "https://localhost:8080/"
        },
        "outputId": "7401c484-6844-47eb-d2f6-c0bc393b7a2b"
      },
      "source": [
        "km = KMeans(n_clusters = 3)\n",
        "y_predicted = km.fit_predict(df_no2[['Longitude','Latitude']])\n",
        "y_predicted"
      ],
      "execution_count": null,
      "outputs": [
        {
          "output_type": "execute_result",
          "data": {
            "text/plain": [
              "array([0, 0, 0, ..., 0, 0, 0], dtype=int32)"
            ]
          },
          "metadata": {
            "tags": []
          },
          "execution_count": 258
        }
      ]
    },
    {
      "cell_type": "code",
      "metadata": {
        "id": "K3q6zVMTGiFf",
        "colab": {
          "base_uri": "https://localhost:8080/"
        },
        "outputId": "3846c732-bd80-4709-a352-0e87ca76482e"
      },
      "source": [
        "my_no2['cluster']=y_predicted\n",
        "my_no2.head()"
      ],
      "execution_count": null,
      "outputs": [
        {
          "output_type": "execute_result",
          "data": {
            "text/html": [
              "<div>\n",
              "<style scoped>\n",
              "    .dataframe tbody tr th:only-of-type {\n",
              "        vertical-align: middle;\n",
              "    }\n",
              "\n",
              "    .dataframe tbody tr th {\n",
              "        vertical-align: top;\n",
              "    }\n",
              "\n",
              "    .dataframe thead th {\n",
              "        text-align: right;\n",
              "    }\n",
              "</style>\n",
              "<table border=\"1\" class=\"dataframe\">\n",
              "  <thead>\n",
              "    <tr style=\"text-align: right;\">\n",
              "      <th></th>\n",
              "      <th>State_Code</th>\n",
              "      <th>County_Code</th>\n",
              "      <th>Site_Num</th>\n",
              "      <th>Latitude</th>\n",
              "      <th>Longitude</th>\n",
              "      <th>Datum</th>\n",
              "      <th>Date_Local</th>\n",
              "      <th>Units_of_Measure</th>\n",
              "      <th>Event_Type</th>\n",
              "      <th>Observation_Count</th>\n",
              "      <th>Observation_Percent</th>\n",
              "      <th>Arithmetic_Mean</th>\n",
              "      <th>firstMaxValue</th>\n",
              "      <th>firstMaxHour</th>\n",
              "      <th>AQI</th>\n",
              "      <th>Local_Site_Name</th>\n",
              "      <th>Address</th>\n",
              "      <th>State_Name</th>\n",
              "      <th>County_Name</th>\n",
              "      <th>City_Name</th>\n",
              "      <th>CBSA_Name</th>\n",
              "      <th>Date_of_Last_Change</th>\n",
              "      <th>short_name</th>\n",
              "      <th>cluster</th>\n",
              "    </tr>\n",
              "  </thead>\n",
              "  <tbody>\n",
              "    <tr>\n",
              "      <th>0</th>\n",
              "      <td>1</td>\n",
              "      <td>73</td>\n",
              "      <td>23</td>\n",
              "      <td>33.553056</td>\n",
              "      <td>-86.815</td>\n",
              "      <td>WGS84</td>\n",
              "      <td>1/1/20</td>\n",
              "      <td>Parts per billion</td>\n",
              "      <td>None</td>\n",
              "      <td>21</td>\n",
              "      <td>88</td>\n",
              "      <td>15.752381</td>\n",
              "      <td>28.2</td>\n",
              "      <td>6</td>\n",
              "      <td>26</td>\n",
              "      <td>North Birmingham</td>\n",
              "      <td>NO. B'HAM,SOU R.R., 3009 28TH ST. NO.</td>\n",
              "      <td>Alabama</td>\n",
              "      <td>Jefferson</td>\n",
              "      <td>Birmingham</td>\n",
              "      <td>Birmingham-Hoover, AL</td>\n",
              "      <td>2/25/21</td>\n",
              "      <td>AL</td>\n",
              "      <td>0</td>\n",
              "    </tr>\n",
              "    <tr>\n",
              "      <th>1</th>\n",
              "      <td>1</td>\n",
              "      <td>73</td>\n",
              "      <td>23</td>\n",
              "      <td>33.553056</td>\n",
              "      <td>-86.815</td>\n",
              "      <td>WGS84</td>\n",
              "      <td>1/2/20</td>\n",
              "      <td>Parts per billion</td>\n",
              "      <td>None</td>\n",
              "      <td>24</td>\n",
              "      <td>100</td>\n",
              "      <td>9.595833</td>\n",
              "      <td>16.3</td>\n",
              "      <td>10</td>\n",
              "      <td>15</td>\n",
              "      <td>North Birmingham</td>\n",
              "      <td>NO. B'HAM,SOU R.R., 3009 28TH ST. NO.</td>\n",
              "      <td>Alabama</td>\n",
              "      <td>Jefferson</td>\n",
              "      <td>Birmingham</td>\n",
              "      <td>Birmingham-Hoover, AL</td>\n",
              "      <td>2/25/21</td>\n",
              "      <td>AL</td>\n",
              "      <td>0</td>\n",
              "    </tr>\n",
              "    <tr>\n",
              "      <th>2</th>\n",
              "      <td>1</td>\n",
              "      <td>73</td>\n",
              "      <td>23</td>\n",
              "      <td>33.553056</td>\n",
              "      <td>-86.815</td>\n",
              "      <td>WGS84</td>\n",
              "      <td>1/3/20</td>\n",
              "      <td>Parts per billion</td>\n",
              "      <td>None</td>\n",
              "      <td>24</td>\n",
              "      <td>100</td>\n",
              "      <td>17.300000</td>\n",
              "      <td>31.6</td>\n",
              "      <td>10</td>\n",
              "      <td>29</td>\n",
              "      <td>North Birmingham</td>\n",
              "      <td>NO. B'HAM,SOU R.R., 3009 28TH ST. NO.</td>\n",
              "      <td>Alabama</td>\n",
              "      <td>Jefferson</td>\n",
              "      <td>Birmingham</td>\n",
              "      <td>Birmingham-Hoover, AL</td>\n",
              "      <td>2/25/21</td>\n",
              "      <td>AL</td>\n",
              "      <td>0</td>\n",
              "    </tr>\n",
              "    <tr>\n",
              "      <th>3</th>\n",
              "      <td>1</td>\n",
              "      <td>73</td>\n",
              "      <td>23</td>\n",
              "      <td>33.553056</td>\n",
              "      <td>-86.815</td>\n",
              "      <td>WGS84</td>\n",
              "      <td>1/4/20</td>\n",
              "      <td>Parts per billion</td>\n",
              "      <td>None</td>\n",
              "      <td>24</td>\n",
              "      <td>100</td>\n",
              "      <td>2.791667</td>\n",
              "      <td>7.5</td>\n",
              "      <td>23</td>\n",
              "      <td>7</td>\n",
              "      <td>North Birmingham</td>\n",
              "      <td>NO. B'HAM,SOU R.R., 3009 28TH ST. NO.</td>\n",
              "      <td>Alabama</td>\n",
              "      <td>Jefferson</td>\n",
              "      <td>Birmingham</td>\n",
              "      <td>Birmingham-Hoover, AL</td>\n",
              "      <td>2/25/21</td>\n",
              "      <td>AL</td>\n",
              "      <td>0</td>\n",
              "    </tr>\n",
              "    <tr>\n",
              "      <th>4</th>\n",
              "      <td>1</td>\n",
              "      <td>73</td>\n",
              "      <td>23</td>\n",
              "      <td>33.553056</td>\n",
              "      <td>-86.815</td>\n",
              "      <td>WGS84</td>\n",
              "      <td>1/5/20</td>\n",
              "      <td>Parts per billion</td>\n",
              "      <td>None</td>\n",
              "      <td>24</td>\n",
              "      <td>100</td>\n",
              "      <td>14.408333</td>\n",
              "      <td>34.0</td>\n",
              "      <td>19</td>\n",
              "      <td>32</td>\n",
              "      <td>North Birmingham</td>\n",
              "      <td>NO. B'HAM,SOU R.R., 3009 28TH ST. NO.</td>\n",
              "      <td>Alabama</td>\n",
              "      <td>Jefferson</td>\n",
              "      <td>Birmingham</td>\n",
              "      <td>Birmingham-Hoover, AL</td>\n",
              "      <td>2/25/21</td>\n",
              "      <td>AL</td>\n",
              "      <td>0</td>\n",
              "    </tr>\n",
              "  </tbody>\n",
              "</table>\n",
              "</div>"
            ],
            "text/plain": [
              "   State_Code  County_Code  Site_Num  ...  Date_of_Last_Change  short_name cluster\n",
              "0           1           73        23  ...              2/25/21          AL       0\n",
              "1           1           73        23  ...              2/25/21          AL       0\n",
              "2           1           73        23  ...              2/25/21          AL       0\n",
              "3           1           73        23  ...              2/25/21          AL       0\n",
              "4           1           73        23  ...              2/25/21          AL       0\n",
              "\n",
              "[5 rows x 24 columns]"
            ]
          },
          "metadata": {
            "tags": []
          },
          "execution_count": 259
        }
      ]
    },
    {
      "cell_type": "code",
      "metadata": {
        "id": "MF_SjEdRGiOx",
        "colab": {
          "base_uri": "https://localhost:8080/"
        },
        "outputId": "e1acc55b-f3f2-4198-8eb7-46f4be9f560e"
      },
      "source": [
        "km.cluster_centers_"
      ],
      "execution_count": null,
      "outputs": [
        {
          "output_type": "execute_result",
          "data": {
            "text/plain": [
              "array([[ -79.01125858,   38.81863378],\n",
              "       [-116.84311085,   37.23468439],\n",
              "       [ -97.49851327,   36.02668872]])"
            ]
          },
          "metadata": {
            "tags": []
          },
          "execution_count": 260
        }
      ]
    },
    {
      "cell_type": "code",
      "metadata": {
        "id": "lgrhkewoGim_",
        "colab": {
          "base_uri": "https://localhost:8080/",
          "height": 316
        },
        "outputId": "cbfbaf0c-8ae9-4e03-cb82-0474961c1aaf"
      },
      "source": [
        "my_no21 = my_no2[my_no2.cluster ==0]\n",
        "my_no22 = my_no2[my_no2.cluster ==1]\n",
        "my_no23 = my_no2[my_no2.cluster ==2]\n",
        "\n",
        "plt.scatter(my_no21.Longitude,my_no21['Latitude'],color ='green' )\n",
        "plt.scatter(my_no22.Longitude,my_no22['Latitude'],color = 'red')\n",
        "plt.scatter(my_no23.Longitude,my_no23['Latitude'],color='black')\n",
        "\n",
        "plt.xlabel('Longitude')\n",
        "plt.ylabel('Latitude')\n",
        "plt.legend()\n"
      ],
      "execution_count": null,
      "outputs": [
        {
          "output_type": "stream",
          "text": [
            "No handles with labels found to put in legend.\n"
          ],
          "name": "stderr"
        },
        {
          "output_type": "execute_result",
          "data": {
            "text/plain": [
              "<matplotlib.legend.Legend at 0x7fc1a4c76ed0>"
            ]
          },
          "metadata": {
            "tags": []
          },
          "execution_count": 261
        },
        {
          "output_type": "display_data",
          "data": {
            "image/png": "[encoded data removed]",
            "text/plain": [
              "<Figure size 432x288 with 1 Axes>"
            ]
          },
          "metadata": {
            "tags": [],
            "needs_background": "light"
          }
        }
      ]
    }
  ]
}